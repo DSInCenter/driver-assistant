{
 "cells": [
  {
   "cell_type": "code",
   "execution_count": 3,
   "metadata": {
    "collapsed": true
   },
   "outputs": [],
   "source": [
    "import tensorflow as tf\n",
    "import tensorflow.keras as keras\n",
    "import matplotlib.pyplot as plt\n",
    "import numpy as np\n",
    "import facenet_model as fnm"
   ]
  },
  {
   "cell_type": "code",
   "execution_count": 4,
   "metadata": {
    "collapsed": false,
    "pycharm": {
     "name": "#%%\n"
    }
   },
   "outputs": [],
   "source": [
    "target_shape = (112, 112)"
   ]
  },
  {
   "cell_type": "code",
   "execution_count": 5,
   "metadata": {
    "collapsed": false,
    "pycharm": {
     "name": "#%%\n"
    }
   },
   "outputs": [],
   "source": [
    "facenet_model = fnm.get_facenet_model()"
   ]
  },
  {
   "cell_type": "code",
   "execution_count": 6,
   "metadata": {
    "collapsed": false,
    "pycharm": {
     "name": "#%%\n"
    }
   },
   "outputs": [],
   "source": [
    "anchor_input = keras.layers.Input(name='anchor', shape=target_shape+(3,))\n",
    "positive_input = keras.layers.Input(name='positive', shape=target_shape+(3,))\n",
    "negative_input = keras.layers.Input(name='negative', shape=target_shape+(3,))"
   ]
  },
  {
   "cell_type": "code",
   "execution_count": 7,
   "metadata": {
    "collapsed": false,
    "pycharm": {
     "name": "#%%\n"
    }
   },
   "outputs": [],
   "source": [
    "distances = fnm.TripletDistanceLayer()(\n",
    "    facenet_model(anchor_input),\n",
    "    facenet_model(positive_input),\n",
    "    facenet_model(negative_input)\n",
    ")"
   ]
  },
  {
   "cell_type": "code",
   "execution_count": 8,
   "metadata": {
    "collapsed": false,
    "pycharm": {
     "name": "#%%\n"
    }
   },
   "outputs": [],
   "source": [
    "siamese_network = keras.models.Model(\n",
    "    inputs=[anchor_input, positive_input, negative_input], outputs=distances\n",
    ")"
   ]
  },
  {
   "cell_type": "code",
   "execution_count": 27,
   "metadata": {},
   "outputs": [],
   "source": [
    "import os\n",
    "import matplotlib.pyplot as plt\n",
    "import cv2 as cv\n",
    "import math"
   ]
  },
  {
   "cell_type": "code",
   "execution_count": 28,
   "metadata": {},
   "outputs": [],
   "source": [
    "# X = utils.loadimgs(\"/home/nimahsn/Downloads/Compressed/CASIA-cropped\")"
   ]
  },
  {
   "cell_type": "code",
   "execution_count": 31,
   "outputs": [],
   "source": [
    "n_epochs = 500\n",
    "# batch_size = 32\n",
    "base_path = '/home/nimahsn/Downloads/Compressed/CASIA-cropped/'\n",
    "# images\n",
    "dirs = os.listdir(base_path)\n",
    "batch_size = 32\n",
    "n_steps = math.ceil(len(dirs) / 32)\n",
    "# n_steps = len(dirs)"
   ],
   "metadata": {
    "collapsed": false,
    "pycharm": {
     "name": "#%%\n"
    }
   }
  },
  {
   "cell_type": "code",
   "execution_count": 39,
   "metadata": {},
   "outputs": [],
   "source": [
    "def generate_batch():\n",
    "    np.random.shuffle(dirs)\n",
    "    batch = []\n",
    "    i = 0\n",
    "    for anchor_path in dirs:\n",
    "        positives = os.listdir(base_path + anchor_path)\n",
    "        p = np.random.choice(positives, size=2, replace=False)\n",
    "        # print(base_path+anchor_path+p[0], flush=True)\n",
    "        anchor = cv.resize(cv.imread(base_path+anchor_path+'/'+p[0]), dsize=[112,112])\n",
    "        positive = cv.resize(cv.imread(base_path+anchor_path+'/'+p[1]), dsize=[112,112])\n",
    "        n_path = anchor_path\n",
    "        while n_path == anchor_path:\n",
    "            n_path = np.random.choice(dirs, size=1)[0]\n",
    "        # print(np.random.choice(os.listdir(base_path+n_path), size=1))\n",
    "        n_path = base_path + n_path + '/'+np.random.choice(os.listdir(base_path+n_path), size=1)[0]\n",
    "        negative = cv.resize(cv.imread(n_path), dsize=[112, 112])\n",
    "        batch.append((anchor, positive, negative))\n",
    "        i+=1\n",
    "        if i == batch_size:\n",
    "            yield np.array(batch)\n",
    "            batch = []\n",
    "            i = 0\n",
    "    yield np.array(batch)\n",
    "\n"
   ]
  },
  {
   "cell_type": "code",
   "execution_count": 39,
   "outputs": [],
   "source": [
    "for epoch in range(n_epochs):\n",
    "    print('epoch {} / {}'.format(epoch, n_epochs))\n",
    "    step = 0\n",
    "    for X_batch in generate_batch():\n",
    "        step += 1\n",
    "        with tf.GradientTape() as tape:\n",
    "            y_pred = siamese_network"
   ],
   "metadata": {
    "collapsed": false,
    "pycharm": {
     "name": "#%%\n"
    }
   }
  }
 ],
 "metadata": {
  "interpreter": {
   "hash": "e59c2547108f3c1cd1401cc9ff684ac2b9de8cd9159ec08c8b469ef43cc8d4d7"
  },
  "kernelspec": {
   "name": "python3",
   "language": "python",
   "display_name": "Python 3"
  },
  "language_info": {
   "codemirror_mode": {
    "name": "ipython",
    "version": 3
   },
   "file_extension": ".py",
   "mimetype": "text/x-python",
   "name": "python",
   "nbconvert_exporter": "python",
   "pygments_lexer": "ipython3",
   "version": "3.8.10"
  }
 },
 "nbformat": 4,
 "nbformat_minor": 0
}