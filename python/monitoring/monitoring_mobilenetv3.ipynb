{
 "cells": [
  {
   "cell_type": "code",
   "execution_count": 1,
   "source": [
    "import tensorflow as tf\n",
    "import tensorflow.keras as keras\n",
    "import numpy as np\n",
    "import matplotlib.pyplot as plt\n",
    "import pandas as pd"
   ],
   "outputs": [],
   "metadata": {
    "pycharm": {
     "name": "#%%\n"
    }
   }
  },
  {
   "cell_type": "code",
   "execution_count": 2,
   "source": [
    "import os\n",
    "import tensorflow.keras.layers as layers\n",
    "from keras import callbacks\n",
    "# from tensorflow.python.keras.applications import imagenet_utils"
   ],
   "outputs": [],
   "metadata": {
    "pycharm": {
     "name": "#%%\n"
    }
   }
  },
  {
   "cell_type": "code",
   "execution_count": 3,
   "source": [
    "dataset_path = os.path.abspath('/home/nimahsn/Documents/DMD')\n",
    "train_path = os.path.join(dataset_path, 'train/')\n",
    "test_path = os.path.join(dataset_path, 'test/')\n",
    "validation_path = os.path.join(dataset_path, 'validation/')"
   ],
   "outputs": [],
   "metadata": {
    "pycharm": {
     "name": "#%%\n"
    }
   }
  },
  {
   "cell_type": "code",
   "execution_count": 4,
   "source": [
    "image_gen = keras.preprocessing.image.ImageDataGenerator(\n",
    "    preprocessing_function=keras.applications.mobilenet_v3.preprocess_input,\n",
    ")"
   ],
   "outputs": [],
   "metadata": {
    "pycharm": {
     "name": "#%%\n"
    }
   }
  },
  {
   "cell_type": "code",
   "execution_count": 54,
   "source": [
    "batch_size = 48\n",
    "train_iter = image_gen.flow_from_directory(directory=train_path, target_size=(224, 224), batch_size=batch_size)\n",
    "valid_iter = image_gen.flow_from_directory(directory=validation_path, target_size=(224, 224), batch_size=batch_size)\n",
    "test_iter = image_gen.flow_from_directory(directory=test_path, target_size=(224, 224), batch_size=batch_size, shuffle=False)"
   ],
   "outputs": [
    {
     "output_type": "stream",
     "name": "stdout",
     "text": [
      "Found 96755 images belonging to 6 classes.\n",
      "Found 13192 images belonging to 6 classes.\n",
      "Found 24329 images belonging to 6 classes.\n"
     ]
    }
   ],
   "metadata": {}
  },
  {
   "cell_type": "code",
   "execution_count": 6,
   "source": [
    "import time\n",
    "base_name = 'new_data'\n",
    "def get_board_path(name: str = \"\"):\n",
    "    return os.path.join(\".\", \"tensorboard_\"+base_name, time.strftime(\"%Y-%m-%d_%H:%M:%S\", time.gmtime())+\"_\"+ name)\n",
    "\n",
    "def get_checkpoint_path(name: str = \"\"):\n",
    "    return os.path.join(\".\", \"checkpoints_\"+base_name, time.strftime(\"%Y-%m-%d_%H:%M:%S\", time.gmtime())+\"_\"+ name)"
   ],
   "outputs": [],
   "metadata": {
    "pycharm": {
     "name": "#%%\n"
    }
   }
  },
  {
   "cell_type": "code",
   "execution_count": 7,
   "source": [
    "def show_error(history, skip, filename):\n",
    "    loss = history.history['loss']\n",
    "    val_loss = history.history['val_loss']\n",
    "    plt.plot(np.arange(skip, len(loss), 1), loss[skip:])\n",
    "    plt.plot(np.arange(skip, len(loss), 1), val_loss[skip:])\n",
    "    plt.title(filename) #'model train vs validation loss'\n",
    "    plt.ylabel('loss')\n",
    "    plt.xlabel('epoch')\n",
    "    plt.legend(['train', 'validation'], loc='best')\n",
    "    plt.savefig(filename + '.jpg',bbox_inches='tight', dpi=500)\n",
    "    plt.show()"
   ],
   "outputs": [],
   "metadata": {}
  },
  {
   "cell_type": "code",
   "execution_count": 8,
   "source": [
    "def get_callbacks(name: str, pat_stop, pat_plateau):\n",
    "    tb_cb = keras.callbacks.TensorBoard(get_board_path(name))\n",
    "    plateau_cb =keras.callbacks.ReduceLROnPlateau(factor=0.1, patience=pat_plateau)\n",
    "    checkpoints_cb = keras.callbacks.ModelCheckpoint(filepath=get_checkpoint_path(name), save_best_only=True)\n",
    "    early_cb = keras.callbacks.EarlyStopping(patience=pat_stop, restore_best_weights=True, min_delta=1e-4)\n",
    "    return [tb_cb, plateau_cb, checkpoints_cb, early_cb]"
   ],
   "outputs": [],
   "metadata": {}
  },
  {
   "cell_type": "markdown",
   "source": [
    "# Mobilenet V3 - Imagenet"
   ],
   "metadata": {}
  },
  {
   "cell_type": "code",
   "execution_count": 9,
   "source": [
    "mobilenet = keras.applications.MobileNetV3Small(include_top=False, input_shape=(224, 224, 3), weights='imagenet')"
   ],
   "outputs": [],
   "metadata": {}
  },
  {
   "cell_type": "code",
   "execution_count": 10,
   "source": [
    "channel_axis = 1 if keras.backend.image_data_format() == 'channels_first' else -1\n",
    "last_point_ch = 1024\n",
    "dropout_rate = 0.2\n",
    "classes = 6\n",
    "classifier_activation = keras.activations.softmax"
   ],
   "outputs": [],
   "metadata": {
    "pycharm": {
     "name": "#%%\n"
    }
   }
  },
  {
   "cell_type": "code",
   "execution_count": 11,
   "source": [
    "x = layers.GlobalAveragePooling2D()(mobilenet.output)\n",
    "if channel_axis == 1:\n",
    "    x = layers.Reshape((mobilenet.last_point_ch, 1, 1))(x)\n",
    "else:\n",
    "    x = layers.Reshape((1, 1, last_point_ch))(x)\n",
    "if dropout_rate > 0:\n",
    "    x = layers.Dropout(dropout_rate)(x)\n",
    "x = layers.Conv2D(classes, kernel_size=1, padding='same', name='Logits')(x)\n",
    "x = layers.Flatten()(x)\n",
    "x = layers.Activation(activation=classifier_activation,\n",
    "                      name='Predictions')(x)\n",
    "\n",
    "model = keras.Model(inputs=mobilenet.input, outputs = x)"
   ],
   "outputs": [],
   "metadata": {
    "pycharm": {
     "name": "#%%\n"
    }
   }
  },
  {
   "cell_type": "code",
   "execution_count": 12,
   "source": [
    "model.summary()"
   ],
   "outputs": [
    {
     "output_type": "stream",
     "name": "stdout",
     "text": [
      "Model: \"model\"\n",
      "__________________________________________________________________________________________________\n",
      "Layer (type)                    Output Shape         Param #     Connected to                     \n",
      "==================================================================================================\n",
      "input_1 (InputLayer)            [(None, 224, 224, 3) 0                                            \n",
      "__________________________________________________________________________________________________\n",
      "rescaling (Rescaling)           (None, 224, 224, 3)  0           input_1[0][0]                    \n",
      "__________________________________________________________________________________________________\n",
      "Conv (Conv2D)                   (None, 112, 112, 16) 432         rescaling[0][0]                  \n",
      "__________________________________________________________________________________________________\n",
      "Conv/BatchNorm (BatchNormalizat (None, 112, 112, 16) 64          Conv[0][0]                       \n",
      "__________________________________________________________________________________________________\n",
      "tf.__operators__.add (TFOpLambd (None, 112, 112, 16) 0           Conv/BatchNorm[0][0]             \n",
      "__________________________________________________________________________________________________\n",
      "re_lu (ReLU)                    (None, 112, 112, 16) 0           tf.__operators__.add[0][0]       \n",
      "__________________________________________________________________________________________________\n",
      "tf.math.multiply (TFOpLambda)   (None, 112, 112, 16) 0           re_lu[0][0]                      \n",
      "__________________________________________________________________________________________________\n",
      "multiply (Multiply)             (None, 112, 112, 16) 0           tf.math.multiply[0][0]           \n",
      "                                                                 Conv/BatchNorm[0][0]             \n",
      "__________________________________________________________________________________________________\n",
      "expanded_conv/depthwise/pad (Ze (None, 113, 113, 16) 0           multiply[0][0]                   \n",
      "__________________________________________________________________________________________________\n",
      "expanded_conv/depthwise (Depthw (None, 56, 56, 16)   144         expanded_conv/depthwise/pad[0][0]\n",
      "__________________________________________________________________________________________________\n",
      "expanded_conv/depthwise/BatchNo (None, 56, 56, 16)   64          expanded_conv/depthwise[0][0]    \n",
      "__________________________________________________________________________________________________\n",
      "re_lu_1 (ReLU)                  (None, 56, 56, 16)   0           expanded_conv/depthwise/BatchNorm\n",
      "__________________________________________________________________________________________________\n",
      "expanded_conv/squeeze_excite/Av (None, 16)           0           re_lu_1[0][0]                    \n",
      "__________________________________________________________________________________________________\n",
      "reshape (Reshape)               (None, 1, 1, 16)     0           expanded_conv/squeeze_excite/AvgP\n",
      "__________________________________________________________________________________________________\n",
      "expanded_conv/squeeze_excite/Co (None, 1, 1, 8)      136         reshape[0][0]                    \n",
      "__________________________________________________________________________________________________\n",
      "expanded_conv/squeeze_excite/Re (None, 1, 1, 8)      0           expanded_conv/squeeze_excite/Conv\n",
      "__________________________________________________________________________________________________\n",
      "expanded_conv/squeeze_excite/Co (None, 1, 1, 16)     144         expanded_conv/squeeze_excite/Relu\n",
      "__________________________________________________________________________________________________\n",
      "tf.__operators__.add_1 (TFOpLam (None, 1, 1, 16)     0           expanded_conv/squeeze_excite/Conv\n",
      "__________________________________________________________________________________________________\n",
      "re_lu_2 (ReLU)                  (None, 1, 1, 16)     0           tf.__operators__.add_1[0][0]     \n",
      "__________________________________________________________________________________________________\n",
      "tf.math.multiply_1 (TFOpLambda) (None, 1, 1, 16)     0           re_lu_2[0][0]                    \n",
      "__________________________________________________________________________________________________\n",
      "expanded_conv/squeeze_excite/Mu (None, 56, 56, 16)   0           re_lu_1[0][0]                    \n",
      "                                                                 tf.math.multiply_1[0][0]         \n",
      "__________________________________________________________________________________________________\n",
      "expanded_conv/project (Conv2D)  (None, 56, 56, 16)   256         expanded_conv/squeeze_excite/Mul[\n",
      "__________________________________________________________________________________________________\n",
      "expanded_conv/project/BatchNorm (None, 56, 56, 16)   64          expanded_conv/project[0][0]      \n",
      "__________________________________________________________________________________________________\n",
      "expanded_conv_1/expand (Conv2D) (None, 56, 56, 72)   1152        expanded_conv/project/BatchNorm[0\n",
      "__________________________________________________________________________________________________\n",
      "expanded_conv_1/expand/BatchNor (None, 56, 56, 72)   288         expanded_conv_1/expand[0][0]     \n",
      "__________________________________________________________________________________________________\n",
      "re_lu_3 (ReLU)                  (None, 56, 56, 72)   0           expanded_conv_1/expand/BatchNorm[\n",
      "__________________________________________________________________________________________________\n",
      "expanded_conv_1/depthwise/pad ( (None, 57, 57, 72)   0           re_lu_3[0][0]                    \n",
      "__________________________________________________________________________________________________\n",
      "expanded_conv_1/depthwise (Dept (None, 28, 28, 72)   648         expanded_conv_1/depthwise/pad[0][\n",
      "__________________________________________________________________________________________________\n",
      "expanded_conv_1/depthwise/Batch (None, 28, 28, 72)   288         expanded_conv_1/depthwise[0][0]  \n",
      "__________________________________________________________________________________________________\n",
      "re_lu_4 (ReLU)                  (None, 28, 28, 72)   0           expanded_conv_1/depthwise/BatchNo\n",
      "__________________________________________________________________________________________________\n",
      "expanded_conv_1/project (Conv2D (None, 28, 28, 24)   1728        re_lu_4[0][0]                    \n",
      "__________________________________________________________________________________________________\n",
      "expanded_conv_1/project/BatchNo (None, 28, 28, 24)   96          expanded_conv_1/project[0][0]    \n",
      "__________________________________________________________________________________________________\n",
      "expanded_conv_2/expand (Conv2D) (None, 28, 28, 88)   2112        expanded_conv_1/project/BatchNorm\n",
      "__________________________________________________________________________________________________\n",
      "expanded_conv_2/expand/BatchNor (None, 28, 28, 88)   352         expanded_conv_2/expand[0][0]     \n",
      "__________________________________________________________________________________________________\n",
      "re_lu_5 (ReLU)                  (None, 28, 28, 88)   0           expanded_conv_2/expand/BatchNorm[\n",
      "__________________________________________________________________________________________________\n",
      "expanded_conv_2/depthwise (Dept (None, 28, 28, 88)   792         re_lu_5[0][0]                    \n",
      "__________________________________________________________________________________________________\n",
      "expanded_conv_2/depthwise/Batch (None, 28, 28, 88)   352         expanded_conv_2/depthwise[0][0]  \n",
      "__________________________________________________________________________________________________\n",
      "re_lu_6 (ReLU)                  (None, 28, 28, 88)   0           expanded_conv_2/depthwise/BatchNo\n",
      "__________________________________________________________________________________________________\n",
      "expanded_conv_2/project (Conv2D (None, 28, 28, 24)   2112        re_lu_6[0][0]                    \n",
      "__________________________________________________________________________________________________\n",
      "expanded_conv_2/project/BatchNo (None, 28, 28, 24)   96          expanded_conv_2/project[0][0]    \n",
      "__________________________________________________________________________________________________\n",
      "expanded_conv_2/Add (Add)       (None, 28, 28, 24)   0           expanded_conv_1/project/BatchNorm\n",
      "                                                                 expanded_conv_2/project/BatchNorm\n",
      "__________________________________________________________________________________________________\n",
      "expanded_conv_3/expand (Conv2D) (None, 28, 28, 96)   2304        expanded_conv_2/Add[0][0]        \n",
      "__________________________________________________________________________________________________\n",
      "expanded_conv_3/expand/BatchNor (None, 28, 28, 96)   384         expanded_conv_3/expand[0][0]     \n",
      "__________________________________________________________________________________________________\n",
      "tf.__operators__.add_2 (TFOpLam (None, 28, 28, 96)   0           expanded_conv_3/expand/BatchNorm[\n",
      "__________________________________________________________________________________________________\n",
      "re_lu_7 (ReLU)                  (None, 28, 28, 96)   0           tf.__operators__.add_2[0][0]     \n",
      "__________________________________________________________________________________________________\n",
      "tf.math.multiply_2 (TFOpLambda) (None, 28, 28, 96)   0           re_lu_7[0][0]                    \n",
      "__________________________________________________________________________________________________\n",
      "multiply_1 (Multiply)           (None, 28, 28, 96)   0           tf.math.multiply_2[0][0]         \n",
      "                                                                 expanded_conv_3/expand/BatchNorm[\n",
      "__________________________________________________________________________________________________\n",
      "expanded_conv_3/depthwise/pad ( (None, 31, 31, 96)   0           multiply_1[0][0]                 \n",
      "__________________________________________________________________________________________________\n",
      "expanded_conv_3/depthwise (Dept (None, 14, 14, 96)   2400        expanded_conv_3/depthwise/pad[0][\n",
      "__________________________________________________________________________________________________\n",
      "expanded_conv_3/depthwise/Batch (None, 14, 14, 96)   384         expanded_conv_3/depthwise[0][0]  \n",
      "__________________________________________________________________________________________________\n",
      "tf.__operators__.add_3 (TFOpLam (None, 14, 14, 96)   0           expanded_conv_3/depthwise/BatchNo\n",
      "__________________________________________________________________________________________________\n",
      "re_lu_8 (ReLU)                  (None, 14, 14, 96)   0           tf.__operators__.add_3[0][0]     \n",
      "__________________________________________________________________________________________________\n",
      "tf.math.multiply_3 (TFOpLambda) (None, 14, 14, 96)   0           re_lu_8[0][0]                    \n",
      "__________________________________________________________________________________________________\n",
      "multiply_2 (Multiply)           (None, 14, 14, 96)   0           tf.math.multiply_3[0][0]         \n",
      "                                                                 expanded_conv_3/depthwise/BatchNo\n",
      "__________________________________________________________________________________________________\n",
      "expanded_conv_3/squeeze_excite/ (None, 96)           0           multiply_2[0][0]                 \n",
      "__________________________________________________________________________________________________\n",
      "reshape_1 (Reshape)             (None, 1, 1, 96)     0           expanded_conv_3/squeeze_excite/Av\n",
      "__________________________________________________________________________________________________\n",
      "expanded_conv_3/squeeze_excite/ (None, 1, 1, 24)     2328        reshape_1[0][0]                  \n",
      "__________________________________________________________________________________________________\n",
      "expanded_conv_3/squeeze_excite/ (None, 1, 1, 24)     0           expanded_conv_3/squeeze_excite/Co\n",
      "__________________________________________________________________________________________________\n",
      "expanded_conv_3/squeeze_excite/ (None, 1, 1, 96)     2400        expanded_conv_3/squeeze_excite/Re\n",
      "__________________________________________________________________________________________________\n",
      "tf.__operators__.add_4 (TFOpLam (None, 1, 1, 96)     0           expanded_conv_3/squeeze_excite/Co\n",
      "__________________________________________________________________________________________________\n",
      "re_lu_9 (ReLU)                  (None, 1, 1, 96)     0           tf.__operators__.add_4[0][0]     \n",
      "__________________________________________________________________________________________________\n",
      "tf.math.multiply_4 (TFOpLambda) (None, 1, 1, 96)     0           re_lu_9[0][0]                    \n",
      "__________________________________________________________________________________________________\n",
      "expanded_conv_3/squeeze_excite/ (None, 14, 14, 96)   0           multiply_2[0][0]                 \n",
      "                                                                 tf.math.multiply_4[0][0]         \n",
      "__________________________________________________________________________________________________\n",
      "expanded_conv_3/project (Conv2D (None, 14, 14, 40)   3840        expanded_conv_3/squeeze_excite/Mu\n",
      "__________________________________________________________________________________________________\n",
      "expanded_conv_3/project/BatchNo (None, 14, 14, 40)   160         expanded_conv_3/project[0][0]    \n",
      "__________________________________________________________________________________________________\n",
      "expanded_conv_4/expand (Conv2D) (None, 14, 14, 240)  9600        expanded_conv_3/project/BatchNorm\n",
      "__________________________________________________________________________________________________\n",
      "expanded_conv_4/expand/BatchNor (None, 14, 14, 240)  960         expanded_conv_4/expand[0][0]     \n",
      "__________________________________________________________________________________________________\n",
      "tf.__operators__.add_5 (TFOpLam (None, 14, 14, 240)  0           expanded_conv_4/expand/BatchNorm[\n",
      "__________________________________________________________________________________________________\n",
      "re_lu_10 (ReLU)                 (None, 14, 14, 240)  0           tf.__operators__.add_5[0][0]     \n",
      "__________________________________________________________________________________________________\n",
      "tf.math.multiply_5 (TFOpLambda) (None, 14, 14, 240)  0           re_lu_10[0][0]                   \n",
      "__________________________________________________________________________________________________\n",
      "multiply_3 (Multiply)           (None, 14, 14, 240)  0           tf.math.multiply_5[0][0]         \n",
      "                                                                 expanded_conv_4/expand/BatchNorm[\n",
      "__________________________________________________________________________________________________\n",
      "expanded_conv_4/depthwise (Dept (None, 14, 14, 240)  6000        multiply_3[0][0]                 \n",
      "__________________________________________________________________________________________________\n",
      "expanded_conv_4/depthwise/Batch (None, 14, 14, 240)  960         expanded_conv_4/depthwise[0][0]  \n",
      "__________________________________________________________________________________________________\n",
      "tf.__operators__.add_6 (TFOpLam (None, 14, 14, 240)  0           expanded_conv_4/depthwise/BatchNo\n",
      "__________________________________________________________________________________________________\n",
      "re_lu_11 (ReLU)                 (None, 14, 14, 240)  0           tf.__operators__.add_6[0][0]     \n",
      "__________________________________________________________________________________________________\n",
      "tf.math.multiply_6 (TFOpLambda) (None, 14, 14, 240)  0           re_lu_11[0][0]                   \n",
      "__________________________________________________________________________________________________\n",
      "multiply_4 (Multiply)           (None, 14, 14, 240)  0           tf.math.multiply_6[0][0]         \n",
      "                                                                 expanded_conv_4/depthwise/BatchNo\n",
      "__________________________________________________________________________________________________\n",
      "expanded_conv_4/squeeze_excite/ (None, 240)          0           multiply_4[0][0]                 \n",
      "__________________________________________________________________________________________________\n",
      "reshape_2 (Reshape)             (None, 1, 1, 240)    0           expanded_conv_4/squeeze_excite/Av\n",
      "__________________________________________________________________________________________________\n",
      "expanded_conv_4/squeeze_excite/ (None, 1, 1, 64)     15424       reshape_2[0][0]                  \n",
      "__________________________________________________________________________________________________\n",
      "expanded_conv_4/squeeze_excite/ (None, 1, 1, 64)     0           expanded_conv_4/squeeze_excite/Co\n",
      "__________________________________________________________________________________________________\n",
      "expanded_conv_4/squeeze_excite/ (None, 1, 1, 240)    15600       expanded_conv_4/squeeze_excite/Re\n",
      "__________________________________________________________________________________________________\n",
      "tf.__operators__.add_7 (TFOpLam (None, 1, 1, 240)    0           expanded_conv_4/squeeze_excite/Co\n",
      "__________________________________________________________________________________________________\n",
      "re_lu_12 (ReLU)                 (None, 1, 1, 240)    0           tf.__operators__.add_7[0][0]     \n",
      "__________________________________________________________________________________________________\n",
      "tf.math.multiply_7 (TFOpLambda) (None, 1, 1, 240)    0           re_lu_12[0][0]                   \n",
      "__________________________________________________________________________________________________\n",
      "expanded_conv_4/squeeze_excite/ (None, 14, 14, 240)  0           multiply_4[0][0]                 \n",
      "                                                                 tf.math.multiply_7[0][0]         \n",
      "__________________________________________________________________________________________________\n",
      "expanded_conv_4/project (Conv2D (None, 14, 14, 40)   9600        expanded_conv_4/squeeze_excite/Mu\n",
      "__________________________________________________________________________________________________\n",
      "expanded_conv_4/project/BatchNo (None, 14, 14, 40)   160         expanded_conv_4/project[0][0]    \n",
      "__________________________________________________________________________________________________\n",
      "expanded_conv_4/Add (Add)       (None, 14, 14, 40)   0           expanded_conv_3/project/BatchNorm\n",
      "                                                                 expanded_conv_4/project/BatchNorm\n",
      "__________________________________________________________________________________________________\n",
      "expanded_conv_5/expand (Conv2D) (None, 14, 14, 240)  9600        expanded_conv_4/Add[0][0]        \n",
      "__________________________________________________________________________________________________\n",
      "expanded_conv_5/expand/BatchNor (None, 14, 14, 240)  960         expanded_conv_5/expand[0][0]     \n",
      "__________________________________________________________________________________________________\n",
      "tf.__operators__.add_8 (TFOpLam (None, 14, 14, 240)  0           expanded_conv_5/expand/BatchNorm[\n",
      "__________________________________________________________________________________________________\n",
      "re_lu_13 (ReLU)                 (None, 14, 14, 240)  0           tf.__operators__.add_8[0][0]     \n",
      "__________________________________________________________________________________________________\n",
      "tf.math.multiply_8 (TFOpLambda) (None, 14, 14, 240)  0           re_lu_13[0][0]                   \n",
      "__________________________________________________________________________________________________\n",
      "multiply_5 (Multiply)           (None, 14, 14, 240)  0           tf.math.multiply_8[0][0]         \n",
      "                                                                 expanded_conv_5/expand/BatchNorm[\n",
      "__________________________________________________________________________________________________\n",
      "expanded_conv_5/depthwise (Dept (None, 14, 14, 240)  6000        multiply_5[0][0]                 \n",
      "__________________________________________________________________________________________________\n",
      "expanded_conv_5/depthwise/Batch (None, 14, 14, 240)  960         expanded_conv_5/depthwise[0][0]  \n",
      "__________________________________________________________________________________________________\n",
      "tf.__operators__.add_9 (TFOpLam (None, 14, 14, 240)  0           expanded_conv_5/depthwise/BatchNo\n",
      "__________________________________________________________________________________________________\n",
      "re_lu_14 (ReLU)                 (None, 14, 14, 240)  0           tf.__operators__.add_9[0][0]     \n",
      "__________________________________________________________________________________________________\n",
      "tf.math.multiply_9 (TFOpLambda) (None, 14, 14, 240)  0           re_lu_14[0][0]                   \n",
      "__________________________________________________________________________________________________\n",
      "multiply_6 (Multiply)           (None, 14, 14, 240)  0           tf.math.multiply_9[0][0]         \n",
      "                                                                 expanded_conv_5/depthwise/BatchNo\n",
      "__________________________________________________________________________________________________\n",
      "expanded_conv_5/squeeze_excite/ (None, 240)          0           multiply_6[0][0]                 \n",
      "__________________________________________________________________________________________________\n",
      "reshape_3 (Reshape)             (None, 1, 1, 240)    0           expanded_conv_5/squeeze_excite/Av\n",
      "__________________________________________________________________________________________________\n",
      "expanded_conv_5/squeeze_excite/ (None, 1, 1, 64)     15424       reshape_3[0][0]                  \n",
      "__________________________________________________________________________________________________\n",
      "expanded_conv_5/squeeze_excite/ (None, 1, 1, 64)     0           expanded_conv_5/squeeze_excite/Co\n",
      "__________________________________________________________________________________________________\n",
      "expanded_conv_5/squeeze_excite/ (None, 1, 1, 240)    15600       expanded_conv_5/squeeze_excite/Re\n",
      "__________________________________________________________________________________________________\n",
      "tf.__operators__.add_10 (TFOpLa (None, 1, 1, 240)    0           expanded_conv_5/squeeze_excite/Co\n",
      "__________________________________________________________________________________________________\n",
      "re_lu_15 (ReLU)                 (None, 1, 1, 240)    0           tf.__operators__.add_10[0][0]    \n",
      "__________________________________________________________________________________________________\n",
      "tf.math.multiply_10 (TFOpLambda (None, 1, 1, 240)    0           re_lu_15[0][0]                   \n",
      "__________________________________________________________________________________________________\n",
      "expanded_conv_5/squeeze_excite/ (None, 14, 14, 240)  0           multiply_6[0][0]                 \n",
      "                                                                 tf.math.multiply_10[0][0]        \n",
      "__________________________________________________________________________________________________\n",
      "expanded_conv_5/project (Conv2D (None, 14, 14, 40)   9600        expanded_conv_5/squeeze_excite/Mu\n",
      "__________________________________________________________________________________________________\n",
      "expanded_conv_5/project/BatchNo (None, 14, 14, 40)   160         expanded_conv_5/project[0][0]    \n",
      "__________________________________________________________________________________________________\n",
      "expanded_conv_5/Add (Add)       (None, 14, 14, 40)   0           expanded_conv_4/Add[0][0]        \n",
      "                                                                 expanded_conv_5/project/BatchNorm\n",
      "__________________________________________________________________________________________________\n",
      "expanded_conv_6/expand (Conv2D) (None, 14, 14, 120)  4800        expanded_conv_5/Add[0][0]        \n",
      "__________________________________________________________________________________________________\n",
      "expanded_conv_6/expand/BatchNor (None, 14, 14, 120)  480         expanded_conv_6/expand[0][0]     \n",
      "__________________________________________________________________________________________________\n",
      "tf.__operators__.add_11 (TFOpLa (None, 14, 14, 120)  0           expanded_conv_6/expand/BatchNorm[\n",
      "__________________________________________________________________________________________________\n",
      "re_lu_16 (ReLU)                 (None, 14, 14, 120)  0           tf.__operators__.add_11[0][0]    \n",
      "__________________________________________________________________________________________________\n",
      "tf.math.multiply_11 (TFOpLambda (None, 14, 14, 120)  0           re_lu_16[0][0]                   \n",
      "__________________________________________________________________________________________________\n",
      "multiply_7 (Multiply)           (None, 14, 14, 120)  0           tf.math.multiply_11[0][0]        \n",
      "                                                                 expanded_conv_6/expand/BatchNorm[\n",
      "__________________________________________________________________________________________________\n",
      "expanded_conv_6/depthwise (Dept (None, 14, 14, 120)  3000        multiply_7[0][0]                 \n",
      "__________________________________________________________________________________________________\n",
      "expanded_conv_6/depthwise/Batch (None, 14, 14, 120)  480         expanded_conv_6/depthwise[0][0]  \n",
      "__________________________________________________________________________________________________\n",
      "tf.__operators__.add_12 (TFOpLa (None, 14, 14, 120)  0           expanded_conv_6/depthwise/BatchNo\n",
      "__________________________________________________________________________________________________\n",
      "re_lu_17 (ReLU)                 (None, 14, 14, 120)  0           tf.__operators__.add_12[0][0]    \n",
      "__________________________________________________________________________________________________\n",
      "tf.math.multiply_12 (TFOpLambda (None, 14, 14, 120)  0           re_lu_17[0][0]                   \n",
      "__________________________________________________________________________________________________\n",
      "multiply_8 (Multiply)           (None, 14, 14, 120)  0           tf.math.multiply_12[0][0]        \n",
      "                                                                 expanded_conv_6/depthwise/BatchNo\n",
      "__________________________________________________________________________________________________\n",
      "expanded_conv_6/squeeze_excite/ (None, 120)          0           multiply_8[0][0]                 \n",
      "__________________________________________________________________________________________________\n",
      "reshape_4 (Reshape)             (None, 1, 1, 120)    0           expanded_conv_6/squeeze_excite/Av\n",
      "__________________________________________________________________________________________________\n",
      "expanded_conv_6/squeeze_excite/ (None, 1, 1, 32)     3872        reshape_4[0][0]                  \n",
      "__________________________________________________________________________________________________\n",
      "expanded_conv_6/squeeze_excite/ (None, 1, 1, 32)     0           expanded_conv_6/squeeze_excite/Co\n",
      "__________________________________________________________________________________________________\n",
      "expanded_conv_6/squeeze_excite/ (None, 1, 1, 120)    3960        expanded_conv_6/squeeze_excite/Re\n",
      "__________________________________________________________________________________________________\n",
      "tf.__operators__.add_13 (TFOpLa (None, 1, 1, 120)    0           expanded_conv_6/squeeze_excite/Co\n",
      "__________________________________________________________________________________________________\n",
      "re_lu_18 (ReLU)                 (None, 1, 1, 120)    0           tf.__operators__.add_13[0][0]    \n",
      "__________________________________________________________________________________________________\n",
      "tf.math.multiply_13 (TFOpLambda (None, 1, 1, 120)    0           re_lu_18[0][0]                   \n",
      "__________________________________________________________________________________________________\n",
      "expanded_conv_6/squeeze_excite/ (None, 14, 14, 120)  0           multiply_8[0][0]                 \n",
      "                                                                 tf.math.multiply_13[0][0]        \n",
      "__________________________________________________________________________________________________\n",
      "expanded_conv_6/project (Conv2D (None, 14, 14, 48)   5760        expanded_conv_6/squeeze_excite/Mu\n",
      "__________________________________________________________________________________________________\n",
      "expanded_conv_6/project/BatchNo (None, 14, 14, 48)   192         expanded_conv_6/project[0][0]    \n",
      "__________________________________________________________________________________________________\n",
      "expanded_conv_7/expand (Conv2D) (None, 14, 14, 144)  6912        expanded_conv_6/project/BatchNorm\n",
      "__________________________________________________________________________________________________\n",
      "expanded_conv_7/expand/BatchNor (None, 14, 14, 144)  576         expanded_conv_7/expand[0][0]     \n",
      "__________________________________________________________________________________________________\n",
      "tf.__operators__.add_14 (TFOpLa (None, 14, 14, 144)  0           expanded_conv_7/expand/BatchNorm[\n",
      "__________________________________________________________________________________________________\n",
      "re_lu_19 (ReLU)                 (None, 14, 14, 144)  0           tf.__operators__.add_14[0][0]    \n",
      "__________________________________________________________________________________________________\n",
      "tf.math.multiply_14 (TFOpLambda (None, 14, 14, 144)  0           re_lu_19[0][0]                   \n",
      "__________________________________________________________________________________________________\n",
      "multiply_9 (Multiply)           (None, 14, 14, 144)  0           tf.math.multiply_14[0][0]        \n",
      "                                                                 expanded_conv_7/expand/BatchNorm[\n",
      "__________________________________________________________________________________________________\n",
      "expanded_conv_7/depthwise (Dept (None, 14, 14, 144)  3600        multiply_9[0][0]                 \n",
      "__________________________________________________________________________________________________\n",
      "expanded_conv_7/depthwise/Batch (None, 14, 14, 144)  576         expanded_conv_7/depthwise[0][0]  \n",
      "__________________________________________________________________________________________________\n",
      "tf.__operators__.add_15 (TFOpLa (None, 14, 14, 144)  0           expanded_conv_7/depthwise/BatchNo\n",
      "__________________________________________________________________________________________________\n",
      "re_lu_20 (ReLU)                 (None, 14, 14, 144)  0           tf.__operators__.add_15[0][0]    \n",
      "__________________________________________________________________________________________________\n",
      "tf.math.multiply_15 (TFOpLambda (None, 14, 14, 144)  0           re_lu_20[0][0]                   \n",
      "__________________________________________________________________________________________________\n",
      "multiply_10 (Multiply)          (None, 14, 14, 144)  0           tf.math.multiply_15[0][0]        \n",
      "                                                                 expanded_conv_7/depthwise/BatchNo\n",
      "__________________________________________________________________________________________________\n",
      "expanded_conv_7/squeeze_excite/ (None, 144)          0           multiply_10[0][0]                \n",
      "__________________________________________________________________________________________________\n",
      "reshape_5 (Reshape)             (None, 1, 1, 144)    0           expanded_conv_7/squeeze_excite/Av\n",
      "__________________________________________________________________________________________________\n",
      "expanded_conv_7/squeeze_excite/ (None, 1, 1, 40)     5800        reshape_5[0][0]                  \n",
      "__________________________________________________________________________________________________\n",
      "expanded_conv_7/squeeze_excite/ (None, 1, 1, 40)     0           expanded_conv_7/squeeze_excite/Co\n",
      "__________________________________________________________________________________________________\n",
      "expanded_conv_7/squeeze_excite/ (None, 1, 1, 144)    5904        expanded_conv_7/squeeze_excite/Re\n",
      "__________________________________________________________________________________________________\n",
      "tf.__operators__.add_16 (TFOpLa (None, 1, 1, 144)    0           expanded_conv_7/squeeze_excite/Co\n",
      "__________________________________________________________________________________________________\n",
      "re_lu_21 (ReLU)                 (None, 1, 1, 144)    0           tf.__operators__.add_16[0][0]    \n",
      "__________________________________________________________________________________________________\n",
      "tf.math.multiply_16 (TFOpLambda (None, 1, 1, 144)    0           re_lu_21[0][0]                   \n",
      "__________________________________________________________________________________________________\n",
      "expanded_conv_7/squeeze_excite/ (None, 14, 14, 144)  0           multiply_10[0][0]                \n",
      "                                                                 tf.math.multiply_16[0][0]        \n",
      "__________________________________________________________________________________________________\n",
      "expanded_conv_7/project (Conv2D (None, 14, 14, 48)   6912        expanded_conv_7/squeeze_excite/Mu\n",
      "__________________________________________________________________________________________________\n",
      "expanded_conv_7/project/BatchNo (None, 14, 14, 48)   192         expanded_conv_7/project[0][0]    \n",
      "__________________________________________________________________________________________________\n",
      "expanded_conv_7/Add (Add)       (None, 14, 14, 48)   0           expanded_conv_6/project/BatchNorm\n",
      "                                                                 expanded_conv_7/project/BatchNorm\n",
      "__________________________________________________________________________________________________\n",
      "expanded_conv_8/expand (Conv2D) (None, 14, 14, 288)  13824       expanded_conv_7/Add[0][0]        \n",
      "__________________________________________________________________________________________________\n",
      "expanded_conv_8/expand/BatchNor (None, 14, 14, 288)  1152        expanded_conv_8/expand[0][0]     \n",
      "__________________________________________________________________________________________________\n",
      "tf.__operators__.add_17 (TFOpLa (None, 14, 14, 288)  0           expanded_conv_8/expand/BatchNorm[\n",
      "__________________________________________________________________________________________________\n",
      "re_lu_22 (ReLU)                 (None, 14, 14, 288)  0           tf.__operators__.add_17[0][0]    \n",
      "__________________________________________________________________________________________________\n",
      "tf.math.multiply_17 (TFOpLambda (None, 14, 14, 288)  0           re_lu_22[0][0]                   \n",
      "__________________________________________________________________________________________________\n",
      "multiply_11 (Multiply)          (None, 14, 14, 288)  0           tf.math.multiply_17[0][0]        \n",
      "                                                                 expanded_conv_8/expand/BatchNorm[\n",
      "__________________________________________________________________________________________________\n",
      "expanded_conv_8/depthwise/pad ( (None, 17, 17, 288)  0           multiply_11[0][0]                \n",
      "__________________________________________________________________________________________________\n",
      "expanded_conv_8/depthwise (Dept (None, 7, 7, 288)    7200        expanded_conv_8/depthwise/pad[0][\n",
      "__________________________________________________________________________________________________\n",
      "expanded_conv_8/depthwise/Batch (None, 7, 7, 288)    1152        expanded_conv_8/depthwise[0][0]  \n",
      "__________________________________________________________________________________________________\n",
      "tf.__operators__.add_18 (TFOpLa (None, 7, 7, 288)    0           expanded_conv_8/depthwise/BatchNo\n",
      "__________________________________________________________________________________________________\n",
      "re_lu_23 (ReLU)                 (None, 7, 7, 288)    0           tf.__operators__.add_18[0][0]    \n",
      "__________________________________________________________________________________________________\n",
      "tf.math.multiply_18 (TFOpLambda (None, 7, 7, 288)    0           re_lu_23[0][0]                   \n",
      "__________________________________________________________________________________________________\n",
      "multiply_12 (Multiply)          (None, 7, 7, 288)    0           tf.math.multiply_18[0][0]        \n",
      "                                                                 expanded_conv_8/depthwise/BatchNo\n",
      "__________________________________________________________________________________________________\n",
      "expanded_conv_8/squeeze_excite/ (None, 288)          0           multiply_12[0][0]                \n",
      "__________________________________________________________________________________________________\n",
      "reshape_6 (Reshape)             (None, 1, 1, 288)    0           expanded_conv_8/squeeze_excite/Av\n",
      "__________________________________________________________________________________________________\n",
      "expanded_conv_8/squeeze_excite/ (None, 1, 1, 72)     20808       reshape_6[0][0]                  \n",
      "__________________________________________________________________________________________________\n",
      "expanded_conv_8/squeeze_excite/ (None, 1, 1, 72)     0           expanded_conv_8/squeeze_excite/Co\n",
      "__________________________________________________________________________________________________\n",
      "expanded_conv_8/squeeze_excite/ (None, 1, 1, 288)    21024       expanded_conv_8/squeeze_excite/Re\n",
      "__________________________________________________________________________________________________\n",
      "tf.__operators__.add_19 (TFOpLa (None, 1, 1, 288)    0           expanded_conv_8/squeeze_excite/Co\n",
      "__________________________________________________________________________________________________\n",
      "re_lu_24 (ReLU)                 (None, 1, 1, 288)    0           tf.__operators__.add_19[0][0]    \n",
      "__________________________________________________________________________________________________\n",
      "tf.math.multiply_19 (TFOpLambda (None, 1, 1, 288)    0           re_lu_24[0][0]                   \n",
      "__________________________________________________________________________________________________\n",
      "expanded_conv_8/squeeze_excite/ (None, 7, 7, 288)    0           multiply_12[0][0]                \n",
      "                                                                 tf.math.multiply_19[0][0]        \n",
      "__________________________________________________________________________________________________\n",
      "expanded_conv_8/project (Conv2D (None, 7, 7, 96)     27648       expanded_conv_8/squeeze_excite/Mu\n",
      "__________________________________________________________________________________________________\n",
      "expanded_conv_8/project/BatchNo (None, 7, 7, 96)     384         expanded_conv_8/project[0][0]    \n",
      "__________________________________________________________________________________________________\n",
      "expanded_conv_9/expand (Conv2D) (None, 7, 7, 576)    55296       expanded_conv_8/project/BatchNorm\n",
      "__________________________________________________________________________________________________\n",
      "expanded_conv_9/expand/BatchNor (None, 7, 7, 576)    2304        expanded_conv_9/expand[0][0]     \n",
      "__________________________________________________________________________________________________\n",
      "tf.__operators__.add_20 (TFOpLa (None, 7, 7, 576)    0           expanded_conv_9/expand/BatchNorm[\n",
      "__________________________________________________________________________________________________\n",
      "re_lu_25 (ReLU)                 (None, 7, 7, 576)    0           tf.__operators__.add_20[0][0]    \n",
      "__________________________________________________________________________________________________\n",
      "tf.math.multiply_20 (TFOpLambda (None, 7, 7, 576)    0           re_lu_25[0][0]                   \n",
      "__________________________________________________________________________________________________\n",
      "multiply_13 (Multiply)          (None, 7, 7, 576)    0           tf.math.multiply_20[0][0]        \n",
      "                                                                 expanded_conv_9/expand/BatchNorm[\n",
      "__________________________________________________________________________________________________\n",
      "expanded_conv_9/depthwise (Dept (None, 7, 7, 576)    14400       multiply_13[0][0]                \n",
      "__________________________________________________________________________________________________\n",
      "expanded_conv_9/depthwise/Batch (None, 7, 7, 576)    2304        expanded_conv_9/depthwise[0][0]  \n",
      "__________________________________________________________________________________________________\n",
      "tf.__operators__.add_21 (TFOpLa (None, 7, 7, 576)    0           expanded_conv_9/depthwise/BatchNo\n",
      "__________________________________________________________________________________________________\n",
      "re_lu_26 (ReLU)                 (None, 7, 7, 576)    0           tf.__operators__.add_21[0][0]    \n",
      "__________________________________________________________________________________________________\n",
      "tf.math.multiply_21 (TFOpLambda (None, 7, 7, 576)    0           re_lu_26[0][0]                   \n",
      "__________________________________________________________________________________________________\n",
      "multiply_14 (Multiply)          (None, 7, 7, 576)    0           tf.math.multiply_21[0][0]        \n",
      "                                                                 expanded_conv_9/depthwise/BatchNo\n",
      "__________________________________________________________________________________________________\n",
      "expanded_conv_9/squeeze_excite/ (None, 576)          0           multiply_14[0][0]                \n",
      "__________________________________________________________________________________________________\n",
      "reshape_7 (Reshape)             (None, 1, 1, 576)    0           expanded_conv_9/squeeze_excite/Av\n",
      "__________________________________________________________________________________________________\n",
      "expanded_conv_9/squeeze_excite/ (None, 1, 1, 144)    83088       reshape_7[0][0]                  \n",
      "__________________________________________________________________________________________________\n",
      "expanded_conv_9/squeeze_excite/ (None, 1, 1, 144)    0           expanded_conv_9/squeeze_excite/Co\n",
      "__________________________________________________________________________________________________\n",
      "expanded_conv_9/squeeze_excite/ (None, 1, 1, 576)    83520       expanded_conv_9/squeeze_excite/Re\n",
      "__________________________________________________________________________________________________\n",
      "tf.__operators__.add_22 (TFOpLa (None, 1, 1, 576)    0           expanded_conv_9/squeeze_excite/Co\n",
      "__________________________________________________________________________________________________\n",
      "re_lu_27 (ReLU)                 (None, 1, 1, 576)    0           tf.__operators__.add_22[0][0]    \n",
      "__________________________________________________________________________________________________\n",
      "tf.math.multiply_22 (TFOpLambda (None, 1, 1, 576)    0           re_lu_27[0][0]                   \n",
      "__________________________________________________________________________________________________\n",
      "expanded_conv_9/squeeze_excite/ (None, 7, 7, 576)    0           multiply_14[0][0]                \n",
      "                                                                 tf.math.multiply_22[0][0]        \n",
      "__________________________________________________________________________________________________\n",
      "expanded_conv_9/project (Conv2D (None, 7, 7, 96)     55296       expanded_conv_9/squeeze_excite/Mu\n",
      "__________________________________________________________________________________________________\n",
      "expanded_conv_9/project/BatchNo (None, 7, 7, 96)     384         expanded_conv_9/project[0][0]    \n",
      "__________________________________________________________________________________________________\n",
      "expanded_conv_9/Add (Add)       (None, 7, 7, 96)     0           expanded_conv_8/project/BatchNorm\n",
      "                                                                 expanded_conv_9/project/BatchNorm\n",
      "__________________________________________________________________________________________________\n",
      "expanded_conv_10/expand (Conv2D (None, 7, 7, 576)    55296       expanded_conv_9/Add[0][0]        \n",
      "__________________________________________________________________________________________________\n",
      "expanded_conv_10/expand/BatchNo (None, 7, 7, 576)    2304        expanded_conv_10/expand[0][0]    \n",
      "__________________________________________________________________________________________________\n",
      "tf.__operators__.add_23 (TFOpLa (None, 7, 7, 576)    0           expanded_conv_10/expand/BatchNorm\n",
      "__________________________________________________________________________________________________\n",
      "re_lu_28 (ReLU)                 (None, 7, 7, 576)    0           tf.__operators__.add_23[0][0]    \n",
      "__________________________________________________________________________________________________\n",
      "tf.math.multiply_23 (TFOpLambda (None, 7, 7, 576)    0           re_lu_28[0][0]                   \n",
      "__________________________________________________________________________________________________\n",
      "multiply_15 (Multiply)          (None, 7, 7, 576)    0           tf.math.multiply_23[0][0]        \n",
      "                                                                 expanded_conv_10/expand/BatchNorm\n",
      "__________________________________________________________________________________________________\n",
      "expanded_conv_10/depthwise (Dep (None, 7, 7, 576)    14400       multiply_15[0][0]                \n",
      "__________________________________________________________________________________________________\n",
      "expanded_conv_10/depthwise/Batc (None, 7, 7, 576)    2304        expanded_conv_10/depthwise[0][0] \n",
      "__________________________________________________________________________________________________\n",
      "tf.__operators__.add_24 (TFOpLa (None, 7, 7, 576)    0           expanded_conv_10/depthwise/BatchN\n",
      "__________________________________________________________________________________________________\n",
      "re_lu_29 (ReLU)                 (None, 7, 7, 576)    0           tf.__operators__.add_24[0][0]    \n",
      "__________________________________________________________________________________________________\n",
      "tf.math.multiply_24 (TFOpLambda (None, 7, 7, 576)    0           re_lu_29[0][0]                   \n",
      "__________________________________________________________________________________________________\n",
      "multiply_16 (Multiply)          (None, 7, 7, 576)    0           tf.math.multiply_24[0][0]        \n",
      "                                                                 expanded_conv_10/depthwise/BatchN\n",
      "__________________________________________________________________________________________________\n",
      "expanded_conv_10/squeeze_excite (None, 576)          0           multiply_16[0][0]                \n",
      "__________________________________________________________________________________________________\n",
      "reshape_8 (Reshape)             (None, 1, 1, 576)    0           expanded_conv_10/squeeze_excite/A\n",
      "__________________________________________________________________________________________________\n",
      "expanded_conv_10/squeeze_excite (None, 1, 1, 144)    83088       reshape_8[0][0]                  \n",
      "__________________________________________________________________________________________________\n",
      "expanded_conv_10/squeeze_excite (None, 1, 1, 144)    0           expanded_conv_10/squeeze_excite/C\n",
      "__________________________________________________________________________________________________\n",
      "expanded_conv_10/squeeze_excite (None, 1, 1, 576)    83520       expanded_conv_10/squeeze_excite/R\n",
      "__________________________________________________________________________________________________\n",
      "tf.__operators__.add_25 (TFOpLa (None, 1, 1, 576)    0           expanded_conv_10/squeeze_excite/C\n",
      "__________________________________________________________________________________________________\n",
      "re_lu_30 (ReLU)                 (None, 1, 1, 576)    0           tf.__operators__.add_25[0][0]    \n",
      "__________________________________________________________________________________________________\n",
      "tf.math.multiply_25 (TFOpLambda (None, 1, 1, 576)    0           re_lu_30[0][0]                   \n",
      "__________________________________________________________________________________________________\n",
      "expanded_conv_10/squeeze_excite (None, 7, 7, 576)    0           multiply_16[0][0]                \n",
      "                                                                 tf.math.multiply_25[0][0]        \n",
      "__________________________________________________________________________________________________\n",
      "expanded_conv_10/project (Conv2 (None, 7, 7, 96)     55296       expanded_conv_10/squeeze_excite/M\n",
      "__________________________________________________________________________________________________\n",
      "expanded_conv_10/project/BatchN (None, 7, 7, 96)     384         expanded_conv_10/project[0][0]   \n",
      "__________________________________________________________________________________________________\n",
      "expanded_conv_10/Add (Add)      (None, 7, 7, 96)     0           expanded_conv_9/Add[0][0]        \n",
      "                                                                 expanded_conv_10/project/BatchNor\n",
      "__________________________________________________________________________________________________\n",
      "Conv_1 (Conv2D)                 (None, 7, 7, 576)    55296       expanded_conv_10/Add[0][0]       \n",
      "__________________________________________________________________________________________________\n",
      "Conv_1/BatchNorm (BatchNormaliz (None, 7, 7, 576)    2304        Conv_1[0][0]                     \n",
      "__________________________________________________________________________________________________\n",
      "tf.__operators__.add_26 (TFOpLa (None, 7, 7, 576)    0           Conv_1/BatchNorm[0][0]           \n",
      "__________________________________________________________________________________________________\n",
      "re_lu_31 (ReLU)                 (None, 7, 7, 576)    0           tf.__operators__.add_26[0][0]    \n",
      "__________________________________________________________________________________________________\n",
      "tf.math.multiply_26 (TFOpLambda (None, 7, 7, 576)    0           re_lu_31[0][0]                   \n",
      "__________________________________________________________________________________________________\n",
      "multiply_17 (Multiply)          (None, 7, 7, 576)    0           tf.math.multiply_26[0][0]        \n",
      "                                                                 Conv_1/BatchNorm[0][0]           \n",
      "__________________________________________________________________________________________________\n",
      "Conv_2 (Conv2D)                 (None, 7, 7, 1024)   590848      multiply_17[0][0]                \n",
      "__________________________________________________________________________________________________\n",
      "tf.__operators__.add_27 (TFOpLa (None, 7, 7, 1024)   0           Conv_2[0][0]                     \n",
      "__________________________________________________________________________________________________\n",
      "re_lu_32 (ReLU)                 (None, 7, 7, 1024)   0           tf.__operators__.add_27[0][0]    \n",
      "__________________________________________________________________________________________________\n",
      "tf.math.multiply_27 (TFOpLambda (None, 7, 7, 1024)   0           re_lu_32[0][0]                   \n",
      "__________________________________________________________________________________________________\n",
      "multiply_18 (Multiply)          (None, 7, 7, 1024)   0           tf.math.multiply_27[0][0]        \n",
      "                                                                 Conv_2[0][0]                     \n",
      "__________________________________________________________________________________________________\n",
      "global_average_pooling2d (Globa (None, 1024)         0           multiply_18[0][0]                \n",
      "__________________________________________________________________________________________________\n",
      "reshape_9 (Reshape)             (None, 1, 1, 1024)   0           global_average_pooling2d[0][0]   \n",
      "__________________________________________________________________________________________________\n",
      "dropout (Dropout)               (None, 1, 1, 1024)   0           reshape_9[0][0]                  \n",
      "__________________________________________________________________________________________________\n",
      "Logits (Conv2D)                 (None, 1, 1, 6)      6150        dropout[0][0]                    \n",
      "__________________________________________________________________________________________________\n",
      "flatten (Flatten)               (None, 6)            0           Logits[0][0]                     \n",
      "__________________________________________________________________________________________________\n",
      "Predictions (Activation)        (None, 6)            0           flatten[0][0]                    \n",
      "==================================================================================================\n",
      "Total params: 1,536,118\n",
      "Trainable params: 1,524,006\n",
      "Non-trainable params: 12,112\n",
      "__________________________________________________________________________________________________\n"
     ]
    }
   ],
   "metadata": {
    "pycharm": {
     "name": "#%%\n"
    }
   }
  },
  {
   "cell_type": "markdown",
   "source": [
    "## Frozen - 15 Epochs"
   ],
   "metadata": {}
  },
  {
   "cell_type": "code",
   "execution_count": 13,
   "source": [
    "for layer in mobilenet.layers:\n",
    "    layer.trainable = False"
   ],
   "outputs": [],
   "metadata": {
    "pycharm": {
     "name": "#%%\n"
    }
   }
  },
  {
   "cell_type": "code",
   "execution_count": 14,
   "source": [
    "n_epochs = 15\n",
    "name_frozen = 'mobilenetv3_frozen_6class'"
   ],
   "outputs": [],
   "metadata": {}
  },
  {
   "cell_type": "code",
   "execution_count": 15,
   "source": [
    "optimizer = keras.optimizers.Adam(learning_rate=0.02)\n",
    "model.compile(loss=keras.losses.categorical_crossentropy, optimizer=optimizer, metrics=['accuracy'])"
   ],
   "outputs": [],
   "metadata": {
    "pycharm": {
     "name": "#%%\n"
    }
   }
  },
  {
   "cell_type": "code",
   "execution_count": 16,
   "source": [
    "history = model.fit_generator(train_iter, steps_per_epoch=train_iter.samples // batch_size, \n",
    "    validation_data=valid_iter, validation_steps=valid_iter.samples//batch_size, \n",
    "    epochs=n_epochs, use_multiprocessing=True, workers=4, callbacks = get_callbacks(name_frozen, 8, 3))"
   ],
   "outputs": [
    {
     "output_type": "stream",
     "name": "stderr",
     "text": [
      "/home/nimahsn/anaconda3/envs/tf-gpu/lib/python3.8/site-packages/tensorflow/python/keras/engine/training.py:1844: UserWarning: `Model.fit_generator` is deprecated and will be removed in a future version. Please use `Model.fit`, which supports generators.\n",
      "  warnings.warn('`Model.fit_generator` is deprecated and '\n"
     ]
    },
    {
     "output_type": "stream",
     "name": "stdout",
     "text": [
      "Epoch 1/15\n",
      "WARNING:tensorflow:multiprocessing can interact badly with TensorFlow, causing nondeterministic deadlocks. For high performance data pipelines tf.data is recommended.\n",
      "2015/2015 [==============================] - ETA: 0s - loss: 1.2021 - accuracy: 0.8101WARNING:tensorflow:multiprocessing can interact badly with TensorFlow, causing nondeterministic deadlocks. For high performance data pipelines tf.data is recommended.\n",
      "2015/2015 [==============================] - 382s 179ms/step - loss: 1.2019 - accuracy: 0.8101 - val_loss: 0.4953 - val_accuracy: 0.9363\n",
      "INFO:tensorflow:Assets written to: ./checkpoints_new_data/2021-08-23_20:40:09_mobilenetv3_frozen_6class/assets\n",
      "Epoch 2/15\n",
      "WARNING:tensorflow:multiprocessing can interact badly with TensorFlow, causing nondeterministic deadlocks. For high performance data pipelines tf.data is recommended.\n",
      "2015/2015 [==============================] - ETA: 0s - loss: 0.8142 - accuracy: 0.8783WARNING:tensorflow:multiprocessing can interact badly with TensorFlow, causing nondeterministic deadlocks. For high performance data pipelines tf.data is recommended.\n",
      "2015/2015 [==============================] - 354s 175ms/step - loss: 0.8142 - accuracy: 0.8783 - val_loss: 0.4218 - val_accuracy: 0.9563\n",
      "INFO:tensorflow:Assets written to: ./checkpoints_new_data/2021-08-23_20:40:09_mobilenetv3_frozen_6class/assets\n",
      "Epoch 3/15\n",
      "WARNING:tensorflow:multiprocessing can interact badly with TensorFlow, causing nondeterministic deadlocks. For high performance data pipelines tf.data is recommended.\n",
      "2015/2015 [==============================] - ETA: 0s - loss: 0.9472 - accuracy: 0.8813WARNING:tensorflow:multiprocessing can interact badly with TensorFlow, causing nondeterministic deadlocks. For high performance data pipelines tf.data is recommended.\n",
      "2015/2015 [==============================] - 358s 177ms/step - loss: 0.9472 - accuracy: 0.8813 - val_loss: 0.4928 - val_accuracy: 0.9383\n",
      "Epoch 4/15\n",
      "WARNING:tensorflow:multiprocessing can interact badly with TensorFlow, causing nondeterministic deadlocks. For high performance data pipelines tf.data is recommended.\n",
      "2015/2015 [==============================] - ETA: 0s - loss: 1.0308 - accuracy: 0.8868WARNING:tensorflow:multiprocessing can interact badly with TensorFlow, causing nondeterministic deadlocks. For high performance data pipelines tf.data is recommended.\n",
      "2015/2015 [==============================] - 358s 177ms/step - loss: 1.0308 - accuracy: 0.8868 - val_loss: 1.6096 - val_accuracy: 0.7549\n",
      "Epoch 5/15\n",
      "WARNING:tensorflow:multiprocessing can interact badly with TensorFlow, causing nondeterministic deadlocks. For high performance data pipelines tf.data is recommended.\n",
      "2015/2015 [==============================] - ETA: 0s - loss: 1.0651 - accuracy: 0.8904WARNING:tensorflow:multiprocessing can interact badly with TensorFlow, causing nondeterministic deadlocks. For high performance data pipelines tf.data is recommended.\n",
      "2015/2015 [==============================] - 370s 183ms/step - loss: 1.0650 - accuracy: 0.8904 - val_loss: 0.8123 - val_accuracy: 0.9500\n",
      "Epoch 6/15\n",
      "WARNING:tensorflow:multiprocessing can interact badly with TensorFlow, causing nondeterministic deadlocks. For high performance data pipelines tf.data is recommended.\n",
      "2015/2015 [==============================] - ETA: 0s - loss: 0.6773 - accuracy: 0.9197WARNING:tensorflow:multiprocessing can interact badly with TensorFlow, causing nondeterministic deadlocks. For high performance data pipelines tf.data is recommended.\n",
      "2015/2015 [==============================] - 370s 184ms/step - loss: 0.6773 - accuracy: 0.9197 - val_loss: 0.2787 - val_accuracy: 0.9685\n",
      "INFO:tensorflow:Assets written to: ./checkpoints_new_data/2021-08-23_20:40:09_mobilenetv3_frozen_6class/assets\n",
      "Epoch 7/15\n",
      "WARNING:tensorflow:multiprocessing can interact badly with TensorFlow, causing nondeterministic deadlocks. For high performance data pipelines tf.data is recommended.\n",
      "2015/2015 [==============================] - ETA: 0s - loss: 0.5831 - accuracy: 0.9192WARNING:tensorflow:multiprocessing can interact badly with TensorFlow, causing nondeterministic deadlocks. For high performance data pipelines tf.data is recommended.\n",
      "2015/2015 [==============================] - 367s 182ms/step - loss: 0.5831 - accuracy: 0.9192 - val_loss: 0.2599 - val_accuracy: 0.9685\n",
      "INFO:tensorflow:Assets written to: ./checkpoints_new_data/2021-08-23_20:40:09_mobilenetv3_frozen_6class/assets\n",
      "Epoch 8/15\n",
      "WARNING:tensorflow:multiprocessing can interact badly with TensorFlow, causing nondeterministic deadlocks. For high performance data pipelines tf.data is recommended.\n",
      "2015/2015 [==============================] - ETA: 0s - loss: 0.5385 - accuracy: 0.9196WARNING:tensorflow:multiprocessing can interact badly with TensorFlow, causing nondeterministic deadlocks. For high performance data pipelines tf.data is recommended.\n",
      "2015/2015 [==============================] - 370s 183ms/step - loss: 0.5385 - accuracy: 0.9196 - val_loss: 0.2555 - val_accuracy: 0.9661\n",
      "INFO:tensorflow:Assets written to: ./checkpoints_new_data/2021-08-23_20:40:09_mobilenetv3_frozen_6class/assets\n",
      "Epoch 9/15\n",
      "WARNING:tensorflow:multiprocessing can interact badly with TensorFlow, causing nondeterministic deadlocks. For high performance data pipelines tf.data is recommended.\n",
      "2015/2015 [==============================] - ETA: 0s - loss: 0.5025 - accuracy: 0.9187WARNING:tensorflow:multiprocessing can interact badly with TensorFlow, causing nondeterministic deadlocks. For high performance data pipelines tf.data is recommended.\n",
      "2015/2015 [==============================] - 367s 182ms/step - loss: 0.5025 - accuracy: 0.9187 - val_loss: 0.1809 - val_accuracy: 0.9672\n",
      "INFO:tensorflow:Assets written to: ./checkpoints_new_data/2021-08-23_20:40:09_mobilenetv3_frozen_6class/assets\n",
      "Epoch 10/15\n",
      "WARNING:tensorflow:multiprocessing can interact badly with TensorFlow, causing nondeterministic deadlocks. For high performance data pipelines tf.data is recommended.\n",
      "2015/2015 [==============================] - ETA: 0s - loss: 0.4831 - accuracy: 0.9187WARNING:tensorflow:multiprocessing can interact badly with TensorFlow, causing nondeterministic deadlocks. For high performance data pipelines tf.data is recommended.\n",
      "2015/2015 [==============================] - 358s 177ms/step - loss: 0.4831 - accuracy: 0.9187 - val_loss: 0.2032 - val_accuracy: 0.9693\n",
      "Epoch 11/15\n",
      "WARNING:tensorflow:multiprocessing can interact badly with TensorFlow, causing nondeterministic deadlocks. For high performance data pipelines tf.data is recommended.\n",
      "2015/2015 [==============================] - ETA: 0s - loss: 0.4547 - accuracy: 0.9196WARNING:tensorflow:multiprocessing can interact badly with TensorFlow, causing nondeterministic deadlocks. For high performance data pipelines tf.data is recommended.\n",
      "2015/2015 [==============================] - 352s 174ms/step - loss: 0.4547 - accuracy: 0.9196 - val_loss: 0.1962 - val_accuracy: 0.9678\n",
      "Epoch 12/15\n",
      "WARNING:tensorflow:multiprocessing can interact badly with TensorFlow, causing nondeterministic deadlocks. For high performance data pipelines tf.data is recommended.\n",
      "2015/2015 [==============================] - ETA: 0s - loss: 0.4081 - accuracy: 0.9221WARNING:tensorflow:multiprocessing can interact badly with TensorFlow, causing nondeterministic deadlocks. For high performance data pipelines tf.data is recommended.\n",
      "2015/2015 [==============================] - 355s 176ms/step - loss: 0.4081 - accuracy: 0.9221 - val_loss: 0.2642 - val_accuracy: 0.9608\n",
      "Epoch 13/15\n",
      "WARNING:tensorflow:multiprocessing can interact badly with TensorFlow, causing nondeterministic deadlocks. For high performance data pipelines tf.data is recommended.\n",
      "2015/2015 [==============================] - ETA: 0s - loss: 0.3724 - accuracy: 0.9262WARNING:tensorflow:multiprocessing can interact badly with TensorFlow, causing nondeterministic deadlocks. For high performance data pipelines tf.data is recommended.\n",
      "2015/2015 [==============================] - 347s 172ms/step - loss: 0.3724 - accuracy: 0.9262 - val_loss: 0.1809 - val_accuracy: 0.9692\n",
      "Epoch 14/15\n",
      "WARNING:tensorflow:multiprocessing can interact badly with TensorFlow, causing nondeterministic deadlocks. For high performance data pipelines tf.data is recommended.\n"
     ]
    },
    {
     "output_type": "stream",
     "name": "stdout",
     "text": [
      "2015/2015 [==============================] - ETA: 0s - loss: 0.3602 - accuracy: 0.9266WARNING:tensorflow:multiprocessing can interact badly with TensorFlow, causing nondeterministic deadlocks. For high performance data pipelines tf.data is recommended.\n",
      "2015/2015 [==============================] - 352s 174ms/step - loss: 0.3602 - accuracy: 0.9266 - val_loss: 0.1707 - val_accuracy: 0.9694\n",
      "INFO:tensorflow:Assets written to: ./checkpoints_new_data/2021-08-23_20:40:09_mobilenetv3_frozen_6class/assets\n",
      "Epoch 15/15\n",
      "WARNING:tensorflow:multiprocessing can interact badly with TensorFlow, causing nondeterministic deadlocks. For high performance data pipelines tf.data is recommended.\n",
      "2015/2015 [==============================] - ETA: 0s - loss: 0.3624 - accuracy: 0.9263WARNING:tensorflow:multiprocessing can interact badly with TensorFlow, causing nondeterministic deadlocks. For high performance data pipelines tf.data is recommended.\n",
      "2015/2015 [==============================] - 343s 170ms/step - loss: 0.3624 - accuracy: 0.9263 - val_loss: 0.1561 - val_accuracy: 0.9707\n",
      "INFO:tensorflow:Assets written to: ./checkpoints_new_data/2021-08-23_20:40:09_mobilenetv3_frozen_6class/assets\n"
     ]
    }
   ],
   "metadata": {
    "pycharm": {
     "name": "#%%\n"
    }
   }
  },
  {
   "cell_type": "markdown",
   "source": [
    "##  Frozen - 35 Epochs -  warm start 15"
   ],
   "metadata": {}
  },
  {
   "cell_type": "code",
   "execution_count": 24,
   "source": [
    "n_epochs = 35\n",
    "name_frozen_e15 = 'mobilenetv3_frozen_6class_epoch15'"
   ],
   "outputs": [],
   "metadata": {}
  },
  {
   "cell_type": "code",
   "execution_count": 30,
   "source": [
    "optimizer = keras.optimizers.Adam(learning_rate=0.0005)\n",
    "model.compile(loss=keras.losses.categorical_crossentropy, optimizer=optimizer, metrics=['accuracy'])"
   ],
   "outputs": [],
   "metadata": {}
  },
  {
   "cell_type": "code",
   "execution_count": 31,
   "source": [
    "history_e15 = model.fit_generator(train_iter, steps_per_epoch=train_iter.samples // batch_size, \n",
    "    validation_data=valid_iter, validation_steps=valid_iter.samples//batch_size, \n",
    "    epochs=n_epochs, use_multiprocessing=True, workers=4, callbacks = get_callbacks(name_frozen_e15, 8, 3), initial_epoch=15)"
   ],
   "outputs": [
    {
     "output_type": "stream",
     "name": "stderr",
     "text": [
      "/home/nimahsn/anaconda3/envs/tf-gpu/lib/python3.8/site-packages/tensorflow/python/keras/engine/training.py:1844: UserWarning: `Model.fit_generator` is deprecated and will be removed in a future version. Please use `Model.fit`, which supports generators.\n",
      "  warnings.warn('`Model.fit_generator` is deprecated and '\n"
     ]
    },
    {
     "output_type": "stream",
     "name": "stdout",
     "text": [
      "Epoch 16/35\n",
      "WARNING:tensorflow:multiprocessing can interact badly with TensorFlow, causing nondeterministic deadlocks. For high performance data pipelines tf.data is recommended.\n",
      "2015/2015 [==============================] - ETA: 0s - loss: 0.3635 - accuracy: 0.9245WARNING:tensorflow:multiprocessing can interact badly with TensorFlow, causing nondeterministic deadlocks. For high performance data pipelines tf.data is recommended.\n",
      "2015/2015 [==============================] - 343s 168ms/step - loss: 0.3635 - accuracy: 0.9245 - val_loss: 0.1897 - val_accuracy: 0.9674\n",
      "INFO:tensorflow:Assets written to: ./checkpoints_new_data/2021-08-23_22:20:34_mobilenetv3_frozen_6class_epoch15/assets\n",
      "Epoch 17/35\n",
      "WARNING:tensorflow:multiprocessing can interact badly with TensorFlow, causing nondeterministic deadlocks. For high performance data pipelines tf.data is recommended.\n",
      "2015/2015 [==============================] - ETA: 0s - loss: 0.3495 - accuracy: 0.9246WARNING:tensorflow:multiprocessing can interact badly with TensorFlow, causing nondeterministic deadlocks. For high performance data pipelines tf.data is recommended.\n",
      "2015/2015 [==============================] - 348s 173ms/step - loss: 0.3495 - accuracy: 0.9246 - val_loss: 0.1505 - val_accuracy: 0.9701\n",
      "INFO:tensorflow:Assets written to: ./checkpoints_new_data/2021-08-23_22:20:34_mobilenetv3_frozen_6class_epoch15/assets\n",
      "Epoch 18/35\n",
      "WARNING:tensorflow:multiprocessing can interact badly with TensorFlow, causing nondeterministic deadlocks. For high performance data pipelines tf.data is recommended.\n",
      "2015/2015 [==============================] - ETA: 0s - loss: 0.3549 - accuracy: 0.9226WARNING:tensorflow:multiprocessing can interact badly with TensorFlow, causing nondeterministic deadlocks. For high performance data pipelines tf.data is recommended.\n",
      "2015/2015 [==============================] - 346s 171ms/step - loss: 0.3549 - accuracy: 0.9226 - val_loss: 0.1548 - val_accuracy: 0.9699\n",
      "Epoch 19/35\n",
      "WARNING:tensorflow:multiprocessing can interact badly with TensorFlow, causing nondeterministic deadlocks. For high performance data pipelines tf.data is recommended.\n",
      "2015/2015 [==============================] - ETA: 0s - loss: 0.3416 - accuracy: 0.9259WARNING:tensorflow:multiprocessing can interact badly with TensorFlow, causing nondeterministic deadlocks. For high performance data pipelines tf.data is recommended.\n",
      "2015/2015 [==============================] - 359s 178ms/step - loss: 0.3416 - accuracy: 0.9259 - val_loss: 0.1614 - val_accuracy: 0.9688\n",
      "Epoch 20/35\n",
      "WARNING:tensorflow:multiprocessing can interact badly with TensorFlow, causing nondeterministic deadlocks. For high performance data pipelines tf.data is recommended.\n",
      "2015/2015 [==============================] - ETA: 0s - loss: 0.3378 - accuracy: 0.9259WARNING:tensorflow:multiprocessing can interact badly with TensorFlow, causing nondeterministic deadlocks. For high performance data pipelines tf.data is recommended.\n",
      "2015/2015 [==============================] - 351s 174ms/step - loss: 0.3378 - accuracy: 0.9259 - val_loss: 0.1683 - val_accuracy: 0.9682\n",
      "Epoch 21/35\n",
      "WARNING:tensorflow:multiprocessing can interact badly with TensorFlow, causing nondeterministic deadlocks. For high performance data pipelines tf.data is recommended.\n",
      "2015/2015 [==============================] - ETA: 0s - loss: 0.3282 - accuracy: 0.9258WARNING:tensorflow:multiprocessing can interact badly with TensorFlow, causing nondeterministic deadlocks. For high performance data pipelines tf.data is recommended.\n",
      "2015/2015 [==============================] - 351s 174ms/step - loss: 0.3282 - accuracy: 0.9258 - val_loss: 0.1519 - val_accuracy: 0.9700\n",
      "Epoch 22/35\n",
      "WARNING:tensorflow:multiprocessing can interact badly with TensorFlow, causing nondeterministic deadlocks. For high performance data pipelines tf.data is recommended.\n",
      "2015/2015 [==============================] - ETA: 0s - loss: 0.3224 - accuracy: 0.9283WARNING:tensorflow:multiprocessing can interact badly with TensorFlow, causing nondeterministic deadlocks. For high performance data pipelines tf.data is recommended.\n",
      "2015/2015 [==============================] - 354s 176ms/step - loss: 0.3224 - accuracy: 0.9283 - val_loss: 0.1596 - val_accuracy: 0.9697\n",
      "Epoch 23/35\n",
      "WARNING:tensorflow:multiprocessing can interact badly with TensorFlow, causing nondeterministic deadlocks. For high performance data pipelines tf.data is recommended.\n",
      "2015/2015 [==============================] - ETA: 0s - loss: 0.3345 - accuracy: 0.9262WARNING:tensorflow:multiprocessing can interact badly with TensorFlow, causing nondeterministic deadlocks. For high performance data pipelines tf.data is recommended.\n",
      "2015/2015 [==============================] - 352s 174ms/step - loss: 0.3345 - accuracy: 0.9262 - val_loss: 0.1483 - val_accuracy: 0.9710\n",
      "INFO:tensorflow:Assets written to: ./checkpoints_new_data/2021-08-23_22:20:34_mobilenetv3_frozen_6class_epoch15/assets\n",
      "Epoch 24/35\n",
      "WARNING:tensorflow:multiprocessing can interact badly with TensorFlow, causing nondeterministic deadlocks. For high performance data pipelines tf.data is recommended.\n",
      "2015/2015 [==============================] - ETA: 0s - loss: 0.3154 - accuracy: 0.9273WARNING:tensorflow:multiprocessing can interact badly with TensorFlow, causing nondeterministic deadlocks. For high performance data pipelines tf.data is recommended.\n",
      "2015/2015 [==============================] - 345s 171ms/step - loss: 0.3154 - accuracy: 0.9273 - val_loss: 0.1563 - val_accuracy: 0.9702\n",
      "Epoch 25/35\n",
      "WARNING:tensorflow:multiprocessing can interact badly with TensorFlow, causing nondeterministic deadlocks. For high performance data pipelines tf.data is recommended.\n",
      "2015/2015 [==============================] - ETA: 0s - loss: 0.3281 - accuracy: 0.9283WARNING:tensorflow:multiprocessing can interact badly with TensorFlow, causing nondeterministic deadlocks. For high performance data pipelines tf.data is recommended.\n",
      "2015/2015 [==============================] - 342s 170ms/step - loss: 0.3281 - accuracy: 0.9283 - val_loss: 0.1467 - val_accuracy: 0.9709\n",
      "INFO:tensorflow:Assets written to: ./checkpoints_new_data/2021-08-23_22:20:34_mobilenetv3_frozen_6class_epoch15/assets\n",
      "Epoch 26/35\n",
      "WARNING:tensorflow:multiprocessing can interact badly with TensorFlow, causing nondeterministic deadlocks. For high performance data pipelines tf.data is recommended.\n",
      "2015/2015 [==============================] - ETA: 0s - loss: 0.3145 - accuracy: 0.9279WARNING:tensorflow:multiprocessing can interact badly with TensorFlow, causing nondeterministic deadlocks. For high performance data pipelines tf.data is recommended.\n",
      "2015/2015 [==============================] - 340s 169ms/step - loss: 0.3145 - accuracy: 0.9279 - val_loss: 0.1559 - val_accuracy: 0.9699\n",
      "Epoch 27/35\n",
      "WARNING:tensorflow:multiprocessing can interact badly with TensorFlow, causing nondeterministic deadlocks. For high performance data pipelines tf.data is recommended.\n",
      "2015/2015 [==============================] - ETA: 0s - loss: 0.3186 - accuracy: 0.9279WARNING:tensorflow:multiprocessing can interact badly with TensorFlow, causing nondeterministic deadlocks. For high performance data pipelines tf.data is recommended.\n",
      "2015/2015 [==============================] - 345s 171ms/step - loss: 0.3186 - accuracy: 0.9279 - val_loss: 0.1508 - val_accuracy: 0.9697\n",
      "Epoch 28/35\n",
      "WARNING:tensorflow:multiprocessing can interact badly with TensorFlow, causing nondeterministic deadlocks. For high performance data pipelines tf.data is recommended.\n",
      "2015/2015 [==============================] - ETA: 0s - loss: 0.3207 - accuracy: 0.9278WARNING:tensorflow:multiprocessing can interact badly with TensorFlow, causing nondeterministic deadlocks. For high performance data pipelines tf.data is recommended.\n",
      "2015/2015 [==============================] - 345s 171ms/step - loss: 0.3207 - accuracy: 0.9278 - val_loss: 0.1468 - val_accuracy: 0.9700\n",
      "Epoch 29/35\n",
      "WARNING:tensorflow:multiprocessing can interact badly with TensorFlow, causing nondeterministic deadlocks. For high performance data pipelines tf.data is recommended.\n",
      "2015/2015 [==============================] - ETA: 0s - loss: 0.3203 - accuracy: 0.9289WARNING:tensorflow:multiprocessing can interact badly with TensorFlow, causing nondeterministic deadlocks. For high performance data pipelines tf.data is recommended.\n"
     ]
    },
    {
     "output_type": "stream",
     "name": "stdout",
     "text": [
      "2015/2015 [==============================] - 350s 173ms/step - loss: 0.3203 - accuracy: 0.9289 - val_loss: 0.1506 - val_accuracy: 0.9699\n",
      "Epoch 30/35\n",
      "WARNING:tensorflow:multiprocessing can interact badly with TensorFlow, causing nondeterministic deadlocks. For high performance data pipelines tf.data is recommended.\n",
      "2015/2015 [==============================] - ETA: 0s - loss: 0.3080 - accuracy: 0.9291WARNING:tensorflow:multiprocessing can interact badly with TensorFlow, causing nondeterministic deadlocks. For high performance data pipelines tf.data is recommended.\n",
      "2015/2015 [==============================] - 349s 173ms/step - loss: 0.3080 - accuracy: 0.9291 - val_loss: 0.1498 - val_accuracy: 0.9701\n",
      "Epoch 31/35\n",
      "WARNING:tensorflow:multiprocessing can interact badly with TensorFlow, causing nondeterministic deadlocks. For high performance data pipelines tf.data is recommended.\n",
      "2015/2015 [==============================] - ETA: 0s - loss: 0.3147 - accuracy: 0.9287WARNING:tensorflow:multiprocessing can interact badly with TensorFlow, causing nondeterministic deadlocks. For high performance data pipelines tf.data is recommended.\n",
      "2015/2015 [==============================] - 350s 173ms/step - loss: 0.3147 - accuracy: 0.9287 - val_loss: 0.1498 - val_accuracy: 0.9703\n",
      "Epoch 32/35\n",
      "WARNING:tensorflow:multiprocessing can interact badly with TensorFlow, causing nondeterministic deadlocks. For high performance data pipelines tf.data is recommended.\n",
      "2015/2015 [==============================] - ETA: 0s - loss: 0.3226 - accuracy: 0.9276WARNING:tensorflow:multiprocessing can interact badly with TensorFlow, causing nondeterministic deadlocks. For high performance data pipelines tf.data is recommended.\n",
      "2015/2015 [==============================] - 342s 170ms/step - loss: 0.3226 - accuracy: 0.9276 - val_loss: 0.1499 - val_accuracy: 0.9702\n",
      "Epoch 33/35\n",
      "WARNING:tensorflow:multiprocessing can interact badly with TensorFlow, causing nondeterministic deadlocks. For high performance data pipelines tf.data is recommended.\n",
      "2015/2015 [==============================] - ETA: 0s - loss: 0.3296 - accuracy: 0.9263WARNING:tensorflow:multiprocessing can interact badly with TensorFlow, causing nondeterministic deadlocks. For high performance data pipelines tf.data is recommended.\n",
      "2015/2015 [==============================] - 341s 169ms/step - loss: 0.3296 - accuracy: 0.9263 - val_loss: 0.1502 - val_accuracy: 0.9701\n"
     ]
    }
   ],
   "metadata": {}
  },
  {
   "cell_type": "code",
   "execution_count": 32,
   "source": [
    "model.save('./saved_models/mobilenet3_frozen_6class_35epochs')"
   ],
   "outputs": [
    {
     "output_type": "stream",
     "name": "stdout",
     "text": [
      "INFO:tensorflow:Assets written to: ./saved_models/mobilenet3_frozen_6class_35epochs/assets\n"
     ]
    }
   ],
   "metadata": {}
  },
  {
   "cell_type": "code",
   "execution_count": 33,
   "source": [
    "df_hist_1 = pd.DataFrame(history.history)\n",
    "df_hist_2 = pd.DataFrame(history_e15.history)"
   ],
   "outputs": [],
   "metadata": {}
  },
  {
   "cell_type": "code",
   "execution_count": 34,
   "source": [
    "df_hist_1.to_pickle(\"./saved_history/mobilenet3_frozen_6class_0_14.pkl\")\n",
    "df_hist_2.to_pickle(\"./saved_history/mobilenet3_frozen_6class_15_34.pkl\")"
   ],
   "outputs": [],
   "metadata": {}
  },
  {
   "cell_type": "markdown",
   "source": [
    "## Unfronzen from Conv_1 - 20 Epochs - warm start"
   ],
   "metadata": {}
  },
  {
   "cell_type": "code",
   "execution_count": 9,
   "source": [
    "model = keras.models.load_model(\"./saved_models/mobilenet3_frozen_6class_35epochs\")"
   ],
   "outputs": [],
   "metadata": {}
  },
  {
   "cell_type": "code",
   "execution_count": 10,
   "source": [
    "# model.layers[-17].name\n",
    "for layer in model.layers:\n",
    "    layer.trainable = False\n",
    "for layer in model.layers[-17:]:\n",
    "    layer.trainable = True"
   ],
   "outputs": [],
   "metadata": {}
  },
  {
   "cell_type": "code",
   "execution_count": 12,
   "source": [
    "name_unfrozen_e35 = \"mobilenet3-unfrozen-conv_1-6class-e35\"\n",
    "n_epochs = 60"
   ],
   "outputs": [],
   "metadata": {}
  },
  {
   "cell_type": "code",
   "execution_count": 14,
   "source": [
    "optimizer = keras.optimizers.Adam(learning_rate=0.002)\n",
    "model.compile(loss=keras.losses.categorical_crossentropy, optimizer=optimizer, metrics=['accuracy'])\n",
    "history_trainable = model.fit_generator(train_iter, steps_per_epoch=train_iter.samples // batch_size, \n",
    "    validation_data=valid_iter, validation_steps=valid_iter.samples//batch_size, \n",
    "    epochs=n_epochs, callbacks = get_callbacks(name_unfrozen_e35, 10, 4),\n",
    "    use_multiprocessing=True, workers=4, initial_epoch = 30)"
   ],
   "outputs": [
    {
     "output_type": "stream",
     "name": "stderr",
     "text": [
      "/home/nimahsn/anaconda3/envs/tf-gpu/lib/python3.8/site-packages/tensorflow/python/keras/engine/training.py:1844: UserWarning: `Model.fit_generator` is deprecated and will be removed in a future version. Please use `Model.fit`, which supports generators.\n",
      "  warnings.warn('`Model.fit_generator` is deprecated and '\n"
     ]
    },
    {
     "output_type": "stream",
     "name": "stdout",
     "text": [
      "Epoch 31/60\n",
      "WARNING:tensorflow:multiprocessing can interact badly with TensorFlow, causing nondeterministic deadlocks. For high performance data pipelines tf.data is recommended.\n",
      "2015/2015 [==============================] - ETA: 0s - loss: 0.6173 - accuracy: 0.9399WARNING:tensorflow:multiprocessing can interact badly with TensorFlow, causing nondeterministic deadlocks. For high performance data pipelines tf.data is recommended.\n",
      "2015/2015 [==============================] - 415s 194ms/step - loss: 0.6171 - accuracy: 0.9399 - val_loss: 0.0791 - val_accuracy: 0.9843\n",
      "INFO:tensorflow:Assets written to: ./checkpoints_new_data/2021-08-24_06:26:05_mobilenet3-unfrozen-conv_1-6class-e35/assets\n",
      "Epoch 32/60\n",
      "WARNING:tensorflow:multiprocessing can interact badly with TensorFlow, causing nondeterministic deadlocks. For high performance data pipelines tf.data is recommended.\n",
      "2015/2015 [==============================] - ETA: 0s - loss: 0.0577 - accuracy: 0.9854WARNING:tensorflow:multiprocessing can interact badly with TensorFlow, causing nondeterministic deadlocks. For high performance data pipelines tf.data is recommended.\n",
      "2015/2015 [==============================] - 376s 186ms/step - loss: 0.0577 - accuracy: 0.9854 - val_loss: 0.0458 - val_accuracy: 0.9881\n",
      "INFO:tensorflow:Assets written to: ./checkpoints_new_data/2021-08-24_06:26:05_mobilenet3-unfrozen-conv_1-6class-e35/assets\n",
      "Epoch 33/60\n",
      "WARNING:tensorflow:multiprocessing can interact badly with TensorFlow, causing nondeterministic deadlocks. For high performance data pipelines tf.data is recommended.\n",
      "2015/2015 [==============================] - ETA: 0s - loss: 0.0388 - accuracy: 0.9897WARNING:tensorflow:multiprocessing can interact badly with TensorFlow, causing nondeterministic deadlocks. For high performance data pipelines tf.data is recommended.\n",
      "2015/2015 [==============================] - 377s 187ms/step - loss: 0.0388 - accuracy: 0.9897 - val_loss: 0.0617 - val_accuracy: 0.9844\n",
      "Epoch 34/60\n",
      "WARNING:tensorflow:multiprocessing can interact badly with TensorFlow, causing nondeterministic deadlocks. For high performance data pipelines tf.data is recommended.\n",
      "2015/2015 [==============================] - ETA: 0s - loss: 0.0321 - accuracy: 0.9907WARNING:tensorflow:multiprocessing can interact badly with TensorFlow, causing nondeterministic deadlocks. For high performance data pipelines tf.data is recommended.\n",
      "2015/2015 [==============================] - 376s 186ms/step - loss: 0.0321 - accuracy: 0.9907 - val_loss: 0.0422 - val_accuracy: 0.9887\n",
      "INFO:tensorflow:Assets written to: ./checkpoints_new_data/2021-08-24_06:26:05_mobilenet3-unfrozen-conv_1-6class-e35/assets\n",
      "Epoch 35/60\n",
      "WARNING:tensorflow:multiprocessing can interact badly with TensorFlow, causing nondeterministic deadlocks. For high performance data pipelines tf.data is recommended.\n",
      "2015/2015 [==============================] - ETA: 0s - loss: 0.0264 - accuracy: 0.9923WARNING:tensorflow:multiprocessing can interact badly with TensorFlow, causing nondeterministic deadlocks. For high performance data pipelines tf.data is recommended.\n",
      "2015/2015 [==============================] - 374s 186ms/step - loss: 0.0264 - accuracy: 0.9923 - val_loss: 0.0241 - val_accuracy: 0.9933\n",
      "INFO:tensorflow:Assets written to: ./checkpoints_new_data/2021-08-24_06:26:05_mobilenet3-unfrozen-conv_1-6class-e35/assets\n",
      "Epoch 36/60\n",
      "WARNING:tensorflow:multiprocessing can interact badly with TensorFlow, causing nondeterministic deadlocks. For high performance data pipelines tf.data is recommended.\n",
      "2015/2015 [==============================] - ETA: 0s - loss: 0.0214 - accuracy: 0.9938WARNING:tensorflow:multiprocessing can interact badly with TensorFlow, causing nondeterministic deadlocks. For high performance data pipelines tf.data is recommended.\n",
      "2015/2015 [==============================] - 372s 184ms/step - loss: 0.0214 - accuracy: 0.9938 - val_loss: 0.0200 - val_accuracy: 0.9946\n",
      "INFO:tensorflow:Assets written to: ./checkpoints_new_data/2021-08-24_06:26:05_mobilenet3-unfrozen-conv_1-6class-e35/assets\n",
      "Epoch 37/60\n",
      "WARNING:tensorflow:multiprocessing can interact badly with TensorFlow, causing nondeterministic deadlocks. For high performance data pipelines tf.data is recommended.\n",
      "2015/2015 [==============================] - ETA: 0s - loss: 0.0160 - accuracy: 0.9954WARNING:tensorflow:multiprocessing can interact badly with TensorFlow, causing nondeterministic deadlocks. For high performance data pipelines tf.data is recommended.\n",
      "2015/2015 [==============================] - 376s 186ms/step - loss: 0.0160 - accuracy: 0.9954 - val_loss: 0.0234 - val_accuracy: 0.9929\n",
      "Epoch 38/60\n",
      "WARNING:tensorflow:multiprocessing can interact badly with TensorFlow, causing nondeterministic deadlocks. For high performance data pipelines tf.data is recommended.\n",
      "2015/2015 [==============================] - ETA: 0s - loss: 0.0164 - accuracy: 0.9953WARNING:tensorflow:multiprocessing can interact badly with TensorFlow, causing nondeterministic deadlocks. For high performance data pipelines tf.data is recommended.\n",
      "2015/2015 [==============================] - 367s 182ms/step - loss: 0.0164 - accuracy: 0.9953 - val_loss: 0.0147 - val_accuracy: 0.9965\n",
      "INFO:tensorflow:Assets written to: ./checkpoints_new_data/2021-08-24_06:26:05_mobilenet3-unfrozen-conv_1-6class-e35/assets\n",
      "Epoch 39/60\n",
      "WARNING:tensorflow:multiprocessing can interact badly with TensorFlow, causing nondeterministic deadlocks. For high performance data pipelines tf.data is recommended.\n",
      "2015/2015 [==============================] - ETA: 0s - loss: 0.0119 - accuracy: 0.9964WARNING:tensorflow:multiprocessing can interact badly with TensorFlow, causing nondeterministic deadlocks. For high performance data pipelines tf.data is recommended.\n",
      "2015/2015 [==============================] - 368s 183ms/step - loss: 0.0119 - accuracy: 0.9964 - val_loss: 0.0181 - val_accuracy: 0.9951\n",
      "Epoch 40/60\n",
      "WARNING:tensorflow:multiprocessing can interact badly with TensorFlow, causing nondeterministic deadlocks. For high performance data pipelines tf.data is recommended.\n",
      "2015/2015 [==============================] - ETA: 0s - loss: 0.0102 - accuracy: 0.9971WARNING:tensorflow:multiprocessing can interact badly with TensorFlow, causing nondeterministic deadlocks. For high performance data pipelines tf.data is recommended.\n",
      "2015/2015 [==============================] - 373s 185ms/step - loss: 0.0102 - accuracy: 0.9971 - val_loss: 0.0187 - val_accuracy: 0.9949\n",
      "Epoch 41/60\n",
      "WARNING:tensorflow:multiprocessing can interact badly with TensorFlow, causing nondeterministic deadlocks. For high performance data pipelines tf.data is recommended.\n",
      "2015/2015 [==============================] - ETA: 0s - loss: 0.0112 - accuracy: 0.9971WARNING:tensorflow:multiprocessing can interact badly with TensorFlow, causing nondeterministic deadlocks. For high performance data pipelines tf.data is recommended.\n",
      "2015/2015 [==============================] - 371s 184ms/step - loss: 0.0112 - accuracy: 0.9971 - val_loss: 0.0181 - val_accuracy: 0.9945\n",
      "Epoch 42/60\n",
      "WARNING:tensorflow:multiprocessing can interact badly with TensorFlow, causing nondeterministic deadlocks. For high performance data pipelines tf.data is recommended.\n",
      "2015/2015 [==============================] - ETA: 0s - loss: 0.0099 - accuracy: 0.9968WARNING:tensorflow:multiprocessing can interact badly with TensorFlow, causing nondeterministic deadlocks. For high performance data pipelines tf.data is recommended.\n",
      "2015/2015 [==============================] - 371s 184ms/step - loss: 0.0099 - accuracy: 0.9968 - val_loss: 0.0176 - val_accuracy: 0.9962\n",
      "Epoch 43/60\n",
      "WARNING:tensorflow:multiprocessing can interact badly with TensorFlow, causing nondeterministic deadlocks. For high performance data pipelines tf.data is recommended.\n",
      "2015/2015 [==============================] - ETA: 0s - loss: 0.0053 - accuracy: 0.9987WARNING:tensorflow:multiprocessing can interact badly with TensorFlow, causing nondeterministic deadlocks. For high performance data pipelines tf.data is recommended.\n",
      "2015/2015 [==============================] - 374s 185ms/step - loss: 0.0053 - accuracy: 0.9987 - val_loss: 0.0110 - val_accuracy: 0.9978\n",
      "INFO:tensorflow:Assets written to: ./checkpoints_new_data/2021-08-24_06:26:05_mobilenet3-unfrozen-conv_1-6class-e35/assets\n"
     ]
    },
    {
     "output_type": "stream",
     "name": "stdout",
     "text": [
      "Epoch 44/60\n",
      "WARNING:tensorflow:multiprocessing can interact badly with TensorFlow, causing nondeterministic deadlocks. For high performance data pipelines tf.data is recommended.\n",
      "2015/2015 [==============================] - ETA: 0s - loss: 0.0010 - accuracy: 0.9998WARNING:tensorflow:multiprocessing can interact badly with TensorFlow, causing nondeterministic deadlocks. For high performance data pipelines tf.data is recommended.\n",
      "2015/2015 [==============================] - 369s 183ms/step - loss: 0.0010 - accuracy: 0.9998 - val_loss: 0.0087 - val_accuracy: 0.9979\n",
      "INFO:tensorflow:Assets written to: ./checkpoints_new_data/2021-08-24_06:26:05_mobilenet3-unfrozen-conv_1-6class-e35/assets\n",
      "Epoch 45/60\n",
      "WARNING:tensorflow:multiprocessing can interact badly with TensorFlow, causing nondeterministic deadlocks. For high performance data pipelines tf.data is recommended.\n",
      "2015/2015 [==============================] - ETA: 0s - loss: 6.7759e-04 - accuracy: 0.9998WARNING:tensorflow:multiprocessing can interact badly with TensorFlow, causing nondeterministic deadlocks. For high performance data pipelines tf.data is recommended.\n",
      "2015/2015 [==============================] - 372s 184ms/step - loss: 6.7756e-04 - accuracy: 0.9998 - val_loss: 0.0091 - val_accuracy: 0.9982\n",
      "Epoch 46/60\n",
      "WARNING:tensorflow:multiprocessing can interact badly with TensorFlow, causing nondeterministic deadlocks. For high performance data pipelines tf.data is recommended.\n",
      "2015/2015 [==============================] - ETA: 0s - loss: 4.2364e-04 - accuracy: 0.9999WARNING:tensorflow:multiprocessing can interact badly with TensorFlow, causing nondeterministic deadlocks. For high performance data pipelines tf.data is recommended.\n",
      "2015/2015 [==============================] - 373s 185ms/step - loss: 4.2366e-04 - accuracy: 0.9999 - val_loss: 0.0093 - val_accuracy: 0.9982\n",
      "Epoch 47/60\n",
      "WARNING:tensorflow:multiprocessing can interact badly with TensorFlow, causing nondeterministic deadlocks. For high performance data pipelines tf.data is recommended.\n",
      "2015/2015 [==============================] - ETA: 0s - loss: 3.1306e-04 - accuracy: 0.9999WARNING:tensorflow:multiprocessing can interact badly with TensorFlow, causing nondeterministic deadlocks. For high performance data pipelines tf.data is recommended.\n",
      "2015/2015 [==============================] - 371s 184ms/step - loss: 3.1307e-04 - accuracy: 0.9999 - val_loss: 0.0095 - val_accuracy: 0.9979\n",
      "Epoch 48/60\n",
      "WARNING:tensorflow:multiprocessing can interact badly with TensorFlow, causing nondeterministic deadlocks. For high performance data pipelines tf.data is recommended.\n",
      "2015/2015 [==============================] - ETA: 0s - loss: 1.9514e-04 - accuracy: 1.0000WARNING:tensorflow:multiprocessing can interact badly with TensorFlow, causing nondeterministic deadlocks. For high performance data pipelines tf.data is recommended.\n",
      "2015/2015 [==============================] - 370s 183ms/step - loss: 1.9515e-04 - accuracy: 1.0000 - val_loss: 0.0094 - val_accuracy: 0.9981\n",
      "Epoch 49/60\n",
      "WARNING:tensorflow:multiprocessing can interact badly with TensorFlow, causing nondeterministic deadlocks. For high performance data pipelines tf.data is recommended.\n",
      "2015/2015 [==============================] - ETA: 0s - loss: 2.2708e-04 - accuracy: 1.0000WARNING:tensorflow:multiprocessing can interact badly with TensorFlow, causing nondeterministic deadlocks. For high performance data pipelines tf.data is recommended.\n",
      "2015/2015 [==============================] - 368s 182ms/step - loss: 2.2705e-04 - accuracy: 1.0000 - val_loss: 0.0090 - val_accuracy: 0.9985\n",
      "Epoch 50/60\n",
      "WARNING:tensorflow:multiprocessing can interact badly with TensorFlow, causing nondeterministic deadlocks. For high performance data pipelines tf.data is recommended.\n",
      "2015/2015 [==============================] - ETA: 0s - loss: 1.3052e-04 - accuracy: 1.0000WARNING:tensorflow:multiprocessing can interact badly with TensorFlow, causing nondeterministic deadlocks. For high performance data pipelines tf.data is recommended.\n",
      "2015/2015 [==============================] - 371s 184ms/step - loss: 1.3053e-04 - accuracy: 1.0000 - val_loss: 0.0090 - val_accuracy: 0.9985\n",
      "Epoch 51/60\n",
      "WARNING:tensorflow:multiprocessing can interact badly with TensorFlow, causing nondeterministic deadlocks. For high performance data pipelines tf.data is recommended.\n",
      "2015/2015 [==============================] - ETA: 0s - loss: 9.9010e-05 - accuracy: 1.0000WARNING:tensorflow:multiprocessing can interact badly with TensorFlow, causing nondeterministic deadlocks. For high performance data pipelines tf.data is recommended.\n",
      "2015/2015 [==============================] - 371s 184ms/step - loss: 9.9006e-05 - accuracy: 1.0000 - val_loss: 0.0088 - val_accuracy: 0.9983\n",
      "Epoch 52/60\n",
      "WARNING:tensorflow:multiprocessing can interact badly with TensorFlow, causing nondeterministic deadlocks. For high performance data pipelines tf.data is recommended.\n",
      "2015/2015 [==============================] - ETA: 0s - loss: 8.9080e-05 - accuracy: 1.0000WARNING:tensorflow:multiprocessing can interact badly with TensorFlow, causing nondeterministic deadlocks. For high performance data pipelines tf.data is recommended.\n",
      "2015/2015 [==============================] - 372s 184ms/step - loss: 8.9075e-05 - accuracy: 1.0000 - val_loss: 0.0083 - val_accuracy: 0.9984\n",
      "INFO:tensorflow:Assets written to: ./checkpoints_new_data/2021-08-24_06:26:05_mobilenet3-unfrozen-conv_1-6class-e35/assets\n",
      "Epoch 53/60\n",
      "WARNING:tensorflow:multiprocessing can interact badly with TensorFlow, causing nondeterministic deadlocks. For high performance data pipelines tf.data is recommended.\n",
      "2015/2015 [==============================] - ETA: 0s - loss: 6.8462e-05 - accuracy: 1.0000WARNING:tensorflow:multiprocessing can interact badly with TensorFlow, causing nondeterministic deadlocks. For high performance data pipelines tf.data is recommended.\n",
      "2015/2015 [==============================] - 367s 182ms/step - loss: 6.8471e-05 - accuracy: 1.0000 - val_loss: 0.0085 - val_accuracy: 0.9983\n",
      "Epoch 54/60\n",
      "WARNING:tensorflow:multiprocessing can interact badly with TensorFlow, causing nondeterministic deadlocks. For high performance data pipelines tf.data is recommended.\n",
      "2015/2015 [==============================] - ETA: 0s - loss: 7.7439e-05 - accuracy: 1.0000WARNING:tensorflow:multiprocessing can interact badly with TensorFlow, causing nondeterministic deadlocks. For high performance data pipelines tf.data is recommended.\n",
      "2015/2015 [==============================] - 367s 182ms/step - loss: 7.7445e-05 - accuracy: 1.0000 - val_loss: 0.0086 - val_accuracy: 0.9982\n",
      "Epoch 55/60\n",
      "WARNING:tensorflow:multiprocessing can interact badly with TensorFlow, causing nondeterministic deadlocks. For high performance data pipelines tf.data is recommended.\n",
      "2015/2015 [==============================] - ETA: 0s - loss: 5.8734e-05 - accuracy: 1.0000WARNING:tensorflow:multiprocessing can interact badly with TensorFlow, causing nondeterministic deadlocks. For high performance data pipelines tf.data is recommended.\n",
      "2015/2015 [==============================] - 367s 182ms/step - loss: 5.8737e-05 - accuracy: 1.0000 - val_loss: 0.0086 - val_accuracy: 0.9981\n",
      "Epoch 56/60\n",
      "WARNING:tensorflow:multiprocessing can interact badly with TensorFlow, causing nondeterministic deadlocks. For high performance data pipelines tf.data is recommended.\n",
      "2015/2015 [==============================] - ETA: 0s - loss: 6.0294e-05 - accuracy: 1.0000WARNING:tensorflow:multiprocessing can interact badly with TensorFlow, causing nondeterministic deadlocks. For high performance data pipelines tf.data is recommended.\n",
      "2015/2015 [==============================] - 366s 181ms/step - loss: 6.0301e-05 - accuracy: 1.0000 - val_loss: 0.0086 - val_accuracy: 0.9982\n",
      "Epoch 57/60\n",
      "WARNING:tensorflow:multiprocessing can interact badly with TensorFlow, causing nondeterministic deadlocks. For high performance data pipelines tf.data is recommended.\n",
      "2015/2015 [==============================] - ETA: 0s - loss: 7.3336e-05 - accuracy: 1.0000WARNING:tensorflow:multiprocessing can interact badly with TensorFlow, causing nondeterministic deadlocks. For high performance data pipelines tf.data is recommended.\n",
      "2015/2015 [==============================] - 365s 181ms/step - loss: 7.3332e-05 - accuracy: 1.0000 - val_loss: 0.0086 - val_accuracy: 0.9982\n"
     ]
    },
    {
     "output_type": "stream",
     "name": "stdout",
     "text": [
      "Epoch 58/60\n",
      "WARNING:tensorflow:multiprocessing can interact badly with TensorFlow, causing nondeterministic deadlocks. For high performance data pipelines tf.data is recommended.\n",
      "2015/2015 [==============================] - ETA: 0s - loss: 5.7540e-05 - accuracy: 1.0000WARNING:tensorflow:multiprocessing can interact badly with TensorFlow, causing nondeterministic deadlocks. For high performance data pipelines tf.data is recommended.\n",
      "2015/2015 [==============================] - 371s 184ms/step - loss: 5.7550e-05 - accuracy: 1.0000 - val_loss: 0.0086 - val_accuracy: 0.9982\n",
      "Epoch 59/60\n",
      "WARNING:tensorflow:multiprocessing can interact badly with TensorFlow, causing nondeterministic deadlocks. For high performance data pipelines tf.data is recommended.\n",
      "2015/2015 [==============================] - ETA: 0s - loss: 4.5865e-05 - accuracy: 1.0000WARNING:tensorflow:multiprocessing can interact badly with TensorFlow, causing nondeterministic deadlocks. For high performance data pipelines tf.data is recommended.\n",
      "2015/2015 [==============================] - 369s 183ms/step - loss: 4.5868e-05 - accuracy: 1.0000 - val_loss: 0.0086 - val_accuracy: 0.9982\n",
      "Epoch 60/60\n",
      "WARNING:tensorflow:multiprocessing can interact badly with TensorFlow, causing nondeterministic deadlocks. For high performance data pipelines tf.data is recommended.\n",
      "2015/2015 [==============================] - ETA: 0s - loss: 4.8651e-05 - accuracy: 1.0000WARNING:tensorflow:multiprocessing can interact badly with TensorFlow, causing nondeterministic deadlocks. For high performance data pipelines tf.data is recommended.\n",
      "2015/2015 [==============================] - 371s 184ms/step - loss: 4.8653e-05 - accuracy: 1.0000 - val_loss: 0.0086 - val_accuracy: 0.9982\n"
     ]
    }
   ],
   "metadata": {}
  },
  {
   "cell_type": "code",
   "execution_count": 15,
   "source": [
    "model.save('./saved_models/mobilenet3_unfrozen_conv1_6class_60epochs')"
   ],
   "outputs": [
    {
     "output_type": "stream",
     "name": "stdout",
     "text": [
      "INFO:tensorflow:Assets written to: ./saved_models/mobilenet3_unfrozen_conv1_6class_60epochs/assets\n"
     ]
    }
   ],
   "metadata": {}
  },
  {
   "cell_type": "code",
   "execution_count": 16,
   "source": [
    "df_temp = pd.DataFrame(history_trainable.history)"
   ],
   "outputs": [],
   "metadata": {}
  },
  {
   "cell_type": "code",
   "execution_count": 17,
   "source": [
    "df_temp.to_pickle(\"./saved_history/mobilenet3_unfrozen_conv1_6class_35_59.pkl\")"
   ],
   "outputs": [],
   "metadata": {}
  },
  {
   "cell_type": "markdown",
   "source": [
    "# Evaluate"
   ],
   "metadata": {}
  },
  {
   "cell_type": "code",
   "execution_count": 9,
   "source": [
    "model = keras.models.load_model('./saved_models/mobilenet3_unfrozen_conv1_6class_60epochs')"
   ],
   "outputs": [],
   "metadata": {}
  },
  {
   "cell_type": "code",
   "execution_count": 10,
   "source": [
    "model.evaluate(test_iter)"
   ],
   "outputs": [
    {
     "output_type": "stream",
     "name": "stdout",
     "text": [
      "507/507 [==============================] - 154s 225ms/step - loss: 0.6394 - accuracy: 0.9183\n"
     ]
    },
    {
     "output_type": "execute_result",
     "data": {
      "text/plain": [
       "[0.639431893825531, 0.9182868003845215]"
      ]
     },
     "metadata": {},
     "execution_count": 10
    }
   ],
   "metadata": {
    "scrolled": true
   }
  },
  {
   "cell_type": "code",
   "execution_count": 13,
   "source": [
    "model_frozen = keras.models.load_model(\"./saved_models/mobilenet3_frozen_6class_35epochs\")"
   ],
   "outputs": [],
   "metadata": {}
  },
  {
   "cell_type": "code",
   "execution_count": 14,
   "source": [
    "model_frozen.evaluate(test_iter)"
   ],
   "outputs": [
    {
     "output_type": "stream",
     "name": "stdout",
     "text": [
      "507/507 [==============================] - 68s 131ms/step - loss: 0.5605 - accuracy: 0.8809\n"
     ]
    },
    {
     "output_type": "execute_result",
     "data": {
      "text/plain": [
       "[0.5604909062385559, 0.8808829188346863]"
      ]
     },
     "metadata": {},
     "execution_count": 14
    }
   ],
   "metadata": {}
  },
  {
   "cell_type": "markdown",
   "source": [
    "# real time"
   ],
   "metadata": {}
  },
  {
   "cell_type": "code",
   "execution_count": 15,
   "source": [
    "def __draw_label(img, text, pos, bg_color):\n",
    "    font_face = cv2.FONT_HERSHEY_SIMPLEX\n",
    "    scale = 1\n",
    "    color = (0, 0, 0)\n",
    "    thickness = cv2.FILLED\n",
    "    margin = 2\n",
    "\n",
    "    txt_size = cv2.getTextSize(text, font_face, scale, thickness)\n",
    "\n",
    "    end_x = pos[0] + txt_size[0][0] + margin\n",
    "    end_y = pos[1] - txt_size[0][1] - margin\n",
    "\n",
    "    cv2.rectangle(img, pos, (end_x, end_y), bg_color, thickness)\n",
    "    cv2.putText(img, text, pos, font_face, scale, color, 1, cv2.LINE_AA)"
   ],
   "outputs": [],
   "metadata": {}
  },
  {
   "cell_type": "code",
   "execution_count": 16,
   "source": [
    "dict_classes = {\n",
    "    0:'drinking',\n",
    "    1:'makeup',\n",
    "    2:'phone',\n",
    "#     3:'phone_right',\n",
    "#     4:'radio',\n",
    "    3:'reach_back',\n",
    "#     4:'reach_side',\n",
    "    4:'safe',\n",
    "    5:'talk'\n",
    "\n",
    "}"
   ],
   "outputs": [],
   "metadata": {}
  },
  {
   "cell_type": "code",
   "execution_count": null,
   "source": [],
   "outputs": [],
   "metadata": {}
  },
  {
   "cell_type": "code",
   "execution_count": 17,
   "source": [
    "import cv2;\n",
    "# face_cascade = cv2.CascadeClassifier(cv2.data.haarcascades + 'haarcascade_frontalface_default.xml')\n",
    "\n",
    "video = cv2.VideoCapture(0)\n",
    "\n",
    "while True:\n",
    "    check, frame = video.read()\n",
    "    # faces = face_cascade.detectMultiScale(frame,\n",
    "    #                                       scaleFactor=1.1, minNeighbors=5);\n",
    "    # for x,y,w,h in faces:\n",
    "        # frame = cv2.rectangle(frame, (x,y), (x+w,y+h), (0,255,0), 3);\n",
    "        # frame = cv2.addText(frame, 'text', (0,0), 'Inter')\n",
    "    img = tf.image.resize(frame, [224, 224])\n",
    "    img = keras.applications.mobilenet_v3.preprocess_input(img)\n",
    "    preds = model.predict(img[tf.newaxis, ...])\n",
    "    index = np.argmax(preds[0])\n",
    "\n",
    "    __draw_label(frame, dict_classes[index] + '\\n' + str(preds[0][index]), (20,20), (255, 0, 0))    \n",
    "\n",
    "    cv2.imshow('Face_Detector', frame);\n",
    "\n",
    "    key = cv2.waitKey(1);\n",
    "\n",
    "    if key == ord('q'):\n",
    "\n",
    "        break;\n",
    "    # while True:\n",
    "    #     if key == ord('p'):\n",
    "    #         break\n",
    "\n",
    "video.release();\n",
    "cv2.destroyAllWindows();"
   ],
   "outputs": [],
   "metadata": {}
  }
 ],
 "metadata": {
  "interpreter": {
   "hash": "e59c2547108f3c1cd1401cc9ff684ac2b9de8cd9159ec08c8b469ef43cc8d4d7"
  },
  "kernelspec": {
   "name": "python3",
   "display_name": "Python 3.8.10 64-bit ('tf-gpu': conda)"
  },
  "language_info": {
   "codemirror_mode": {
    "name": "ipython",
    "version": 3
   },
   "file_extension": ".py",
   "mimetype": "text/x-python",
   "name": "python",
   "nbconvert_exporter": "python",
   "pygments_lexer": "ipython3",
   "version": "3.8.10"
  }
 },
 "nbformat": 4,
 "nbformat_minor": 2
}